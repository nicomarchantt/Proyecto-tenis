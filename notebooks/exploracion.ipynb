{
 "cells": [
  {
   "cell_type": "code",
   "execution_count": 128,
   "metadata": {},
   "outputs": [],
   "source": [
    "import pandas as pd\n",
    "import numpy as np\n",
    "import matplotlib.pyplot as plt "
   ]
  },
  {
   "cell_type": "markdown",
   "metadata": {},
   "source": [
    "## Limpieza de la base de datos ##"
   ]
  },
  {
   "cell_type": "markdown",
   "metadata": {},
   "source": [
    "1. Descargar la base de datos."
   ]
  },
  {
   "cell_type": "code",
   "execution_count": 129,
   "metadata": {},
   "outputs": [
    {
     "data": {
      "text/plain": [
       "Index(['ATP', 'Location', 'Tournament', 'Date', 'Series', 'Court', 'Surface',\n",
       "       'Round', 'Best of', 'Winner', 'Loser', 'WRank', 'LRank', 'W1', 'L1',\n",
       "       'W2', 'L2', 'W3', 'L3', 'W4', 'L4', 'W5', 'L5', 'Wsets', 'Lsets',\n",
       "       'Comment', 'CBW', 'CBL', 'GBW', 'GBL', 'IWW', 'IWL', 'SBW', 'SBL',\n",
       "       'B365W', 'B365L', 'B&WW', 'B&WL', 'EXW', 'EXL', 'PSW', 'PSL', 'WPts',\n",
       "       'LPts', 'UBW', 'UBL', 'LBW', 'LBL', 'SJW', 'SJL', 'MaxW', 'MaxL',\n",
       "       'AvgW', 'AvgL'],\n",
       "      dtype='object')"
      ]
     },
     "execution_count": 129,
     "metadata": {},
     "output_type": "execute_result"
    }
   ],
   "source": [
    "df = pd.read_csv(\"Data.csv\", encoding=\"ISO-8859-1\", low_memory=False)\n",
    "df.columns\n",
    "df.head()"
   ]
  },
  {
   "cell_type": "markdown",
   "metadata": {},
   "source": [
    "2. Eliminamos las columnas pertenecientes a las probabilidades de diferentes casas de apuestas."
   ]
  },
  {
   "cell_type": "code",
   "execution_count": 130,
   "metadata": {},
   "outputs": [
    {
     "data": {
      "text/plain": [
       "Index(['ATP', 'Location', 'Tournament', 'Date', 'Series', 'Court', 'Surface',\n",
       "       'Round', 'Best of', 'Winner', 'Loser', 'WRank', 'LRank', 'W1', 'L1',\n",
       "       'W2', 'L2', 'W3', 'L3', 'W4', 'L4', 'W5', 'L5', 'Wsets', 'Lsets',\n",
       "       'Comment', 'WPts', 'LPts'],\n",
       "      dtype='object')"
      ]
     },
     "execution_count": 130,
     "metadata": {},
     "output_type": "execute_result"
    }
   ],
   "source": [
    "df_1 = df.drop(columns=['CBW', 'CBL', 'GBW', 'GBL', 'IWW', 'IWL', 'SBW', 'SBL',\n",
    "       'B365W', 'B365L', 'B&WW', 'B&WL', 'EXW', 'EXL', 'PSW', 'PSL', 'UBW', 'UBL', 'LBW', 'LBL', 'SJW', 'SJL', 'MaxW', 'MaxL',\n",
    "       'AvgW', 'AvgL'])\n",
    "df_1.columns"
   ]
  },
  {
   "cell_type": "markdown",
   "metadata": {},
   "source": [
    "3. Observamos los valores que tiene la columna Series para ver los tipos de torneos que existen en el dataset."
   ]
  },
  {
   "cell_type": "code",
   "execution_count": 131,
   "metadata": {},
   "outputs": [
    {
     "name": "stdout",
     "output_type": "stream",
     "text": [
      "Series\n",
      "International           11894\n",
      "ATP250                   8976\n",
      "Grand Slam               8636\n",
      "Masters                  5285\n",
      "Masters 1000             4324\n",
      "International Gold       3755\n",
      "ATP500                   3139\n",
      "International Series      403\n",
      "Masters Cup               240\n",
      "Name: count, dtype: int64\n"
     ]
    }
   ],
   "source": [
    "print(df_1[\"Series\"].value_counts())"
   ]
  },
  {
   "cell_type": "markdown",
   "metadata": {},
   "source": [
    "3. En este proyecto nos centraremos en los torneos más importantes para subir en el ranking ATP, los cuales son Grand Slams, Masters 1000, ATP 250, y ATP 500 por lo que nos quedaremos solo con las filas pertenecientes a estos valores."
   ]
  },
  {
   "cell_type": "code",
   "execution_count": 132,
   "metadata": {},
   "outputs": [],
   "source": [
    "df_filtered = df_1[df_1[\"Series\"].isin([\"Grand Slam\", \"Masters 1000\", \"ATP250\", \"ATP500\"])]"
   ]
  },
  {
   "cell_type": "markdown",
   "metadata": {},
   "source": [
    "4. Verificamos si el filtro se aplicó correctamente."
   ]
  },
  {
   "cell_type": "code",
   "execution_count": 133,
   "metadata": {},
   "outputs": [
    {
     "name": "stdout",
     "output_type": "stream",
     "text": [
      "Series\n",
      "ATP250          8976\n",
      "Grand Slam      8636\n",
      "Masters 1000    4324\n",
      "ATP500          3139\n",
      "Name: count, dtype: int64\n"
     ]
    }
   ],
   "source": [
    "print(df_filtered[\"Series\"].value_counts())"
   ]
  },
  {
   "cell_type": "code",
   "execution_count": 134,
   "metadata": {},
   "outputs": [
    {
     "data": {
      "text/html": [
       "<div>\n",
       "<style scoped>\n",
       "    .dataframe tbody tr th:only-of-type {\n",
       "        vertical-align: middle;\n",
       "    }\n",
       "\n",
       "    .dataframe tbody tr th {\n",
       "        vertical-align: top;\n",
       "    }\n",
       "\n",
       "    .dataframe thead th {\n",
       "        text-align: right;\n",
       "    }\n",
       "</style>\n",
       "<table border=\"1\" class=\"dataframe\">\n",
       "  <thead>\n",
       "    <tr style=\"text-align: right;\">\n",
       "      <th></th>\n",
       "      <th>ATP</th>\n",
       "      <th>Location</th>\n",
       "      <th>Tournament</th>\n",
       "      <th>Date</th>\n",
       "      <th>Series</th>\n",
       "      <th>Court</th>\n",
       "      <th>Surface</th>\n",
       "      <th>Round</th>\n",
       "      <th>Best of</th>\n",
       "      <th>Winner</th>\n",
       "      <th>...</th>\n",
       "      <th>L3</th>\n",
       "      <th>W4</th>\n",
       "      <th>L4</th>\n",
       "      <th>W5</th>\n",
       "      <th>L5</th>\n",
       "      <th>Wsets</th>\n",
       "      <th>Lsets</th>\n",
       "      <th>Comment</th>\n",
       "      <th>WPts</th>\n",
       "      <th>LPts</th>\n",
       "    </tr>\n",
       "  </thead>\n",
       "  <tbody>\n",
       "    <tr>\n",
       "      <th>155</th>\n",
       "      <td>6</td>\n",
       "      <td>Melbourne</td>\n",
       "      <td>Australian Open</td>\n",
       "      <td>17/01/2000</td>\n",
       "      <td>Grand Slam</td>\n",
       "      <td>Outdoor</td>\n",
       "      <td>Hard</td>\n",
       "      <td>1st Round</td>\n",
       "      <td>5</td>\n",
       "      <td>Agassi A.</td>\n",
       "      <td>...</td>\n",
       "      <td>3.0</td>\n",
       "      <td>NaN</td>\n",
       "      <td>NaN</td>\n",
       "      <td>NaN</td>\n",
       "      <td>NaN</td>\n",
       "      <td>3.0</td>\n",
       "      <td>0.0</td>\n",
       "      <td>Completed</td>\n",
       "      <td>NaN</td>\n",
       "      <td>NaN</td>\n",
       "    </tr>\n",
       "    <tr>\n",
       "      <th>156</th>\n",
       "      <td>6</td>\n",
       "      <td>Melbourne</td>\n",
       "      <td>Australian Open</td>\n",
       "      <td>17/01/2000</td>\n",
       "      <td>Grand Slam</td>\n",
       "      <td>Outdoor</td>\n",
       "      <td>Hard</td>\n",
       "      <td>1st Round</td>\n",
       "      <td>5</td>\n",
       "      <td>Alami K.</td>\n",
       "      <td>...</td>\n",
       "      <td>5.0</td>\n",
       "      <td>NaN</td>\n",
       "      <td>NaN</td>\n",
       "      <td>NaN</td>\n",
       "      <td>NaN</td>\n",
       "      <td>3.0</td>\n",
       "      <td>0.0</td>\n",
       "      <td>Completed</td>\n",
       "      <td>NaN</td>\n",
       "      <td>NaN</td>\n",
       "    </tr>\n",
       "    <tr>\n",
       "      <th>157</th>\n",
       "      <td>6</td>\n",
       "      <td>Melbourne</td>\n",
       "      <td>Australian Open</td>\n",
       "      <td>17/01/2000</td>\n",
       "      <td>Grand Slam</td>\n",
       "      <td>Outdoor</td>\n",
       "      <td>Hard</td>\n",
       "      <td>1st Round</td>\n",
       "      <td>5</td>\n",
       "      <td>Arazi H.</td>\n",
       "      <td>...</td>\n",
       "      <td>2.0</td>\n",
       "      <td>NaN</td>\n",
       "      <td>NaN</td>\n",
       "      <td>NaN</td>\n",
       "      <td>NaN</td>\n",
       "      <td>3.0</td>\n",
       "      <td>0.0</td>\n",
       "      <td>Completed</td>\n",
       "      <td>NaN</td>\n",
       "      <td>NaN</td>\n",
       "    </tr>\n",
       "    <tr>\n",
       "      <th>158</th>\n",
       "      <td>6</td>\n",
       "      <td>Melbourne</td>\n",
       "      <td>Australian Open</td>\n",
       "      <td>17/01/2000</td>\n",
       "      <td>Grand Slam</td>\n",
       "      <td>Outdoor</td>\n",
       "      <td>Hard</td>\n",
       "      <td>1st Round</td>\n",
       "      <td>5</td>\n",
       "      <td>Behrend T.</td>\n",
       "      <td>...</td>\n",
       "      <td>7.0</td>\n",
       "      <td>6.0</td>\n",
       "      <td>3.0</td>\n",
       "      <td>6.0</td>\n",
       "      <td>0.0</td>\n",
       "      <td>3.0</td>\n",
       "      <td>2.0</td>\n",
       "      <td>Completed</td>\n",
       "      <td>NaN</td>\n",
       "      <td>NaN</td>\n",
       "    </tr>\n",
       "    <tr>\n",
       "      <th>159</th>\n",
       "      <td>6</td>\n",
       "      <td>Melbourne</td>\n",
       "      <td>Australian Open</td>\n",
       "      <td>17/01/2000</td>\n",
       "      <td>Grand Slam</td>\n",
       "      <td>Outdoor</td>\n",
       "      <td>Hard</td>\n",
       "      <td>1st Round</td>\n",
       "      <td>5</td>\n",
       "      <td>Bjorkman J.</td>\n",
       "      <td>...</td>\n",
       "      <td>4.0</td>\n",
       "      <td>0.0</td>\n",
       "      <td>6.0</td>\n",
       "      <td>6.0</td>\n",
       "      <td>4.0</td>\n",
       "      <td>3.0</td>\n",
       "      <td>2.0</td>\n",
       "      <td>Completed</td>\n",
       "      <td>NaN</td>\n",
       "      <td>NaN</td>\n",
       "    </tr>\n",
       "  </tbody>\n",
       "</table>\n",
       "<p>5 rows × 28 columns</p>\n",
       "</div>"
      ],
      "text/plain": [
       "     ATP   Location       Tournament        Date      Series    Court Surface  \\\n",
       "155    6  Melbourne  Australian Open  17/01/2000  Grand Slam  Outdoor    Hard   \n",
       "156    6  Melbourne  Australian Open  17/01/2000  Grand Slam  Outdoor    Hard   \n",
       "157    6  Melbourne  Australian Open  17/01/2000  Grand Slam  Outdoor    Hard   \n",
       "158    6  Melbourne  Australian Open  17/01/2000  Grand Slam  Outdoor    Hard   \n",
       "159    6  Melbourne  Australian Open  17/01/2000  Grand Slam  Outdoor    Hard   \n",
       "\n",
       "         Round  Best of       Winner  ...   L3   W4   L4   W5   L5  Wsets  \\\n",
       "155  1st Round        5    Agassi A.  ...  3.0  NaN  NaN  NaN  NaN    3.0   \n",
       "156  1st Round        5     Alami K.  ...  5.0  NaN  NaN  NaN  NaN    3.0   \n",
       "157  1st Round        5     Arazi H.  ...  2.0  NaN  NaN  NaN  NaN    3.0   \n",
       "158  1st Round        5   Behrend T.  ...  7.0  6.0  3.0  6.0  0.0    3.0   \n",
       "159  1st Round        5  Bjorkman J.  ...  4.0  0.0  6.0  6.0  4.0    3.0   \n",
       "\n",
       "     Lsets    Comment  WPts  LPts  \n",
       "155    0.0  Completed   NaN   NaN  \n",
       "156    0.0  Completed   NaN   NaN  \n",
       "157    0.0  Completed   NaN   NaN  \n",
       "158    2.0  Completed   NaN   NaN  \n",
       "159    2.0  Completed   NaN   NaN  \n",
       "\n",
       "[5 rows x 28 columns]"
      ]
     },
     "execution_count": 134,
     "metadata": {},
     "output_type": "execute_result"
    }
   ],
   "source": [
    "df_filtered.head()"
   ]
  },
  {
   "cell_type": "markdown",
   "metadata": {},
   "source": [
    "5. Observamos los tipos de cada variable para ver si es necesario cambiarlos."
   ]
  },
  {
   "cell_type": "code",
   "execution_count": 135,
   "metadata": {},
   "outputs": [
    {
     "data": {
      "text/plain": [
       "dtype('int64')"
      ]
     },
     "execution_count": 135,
     "metadata": {},
     "output_type": "execute_result"
    }
   ],
   "source": [
    "df_filtered[\"ATP\"].dtype"
   ]
  },
  {
   "cell_type": "code",
   "execution_count": 136,
   "metadata": {},
   "outputs": [
    {
     "data": {
      "text/plain": [
       "dtype('O')"
      ]
     },
     "execution_count": 136,
     "metadata": {},
     "output_type": "execute_result"
    }
   ],
   "source": [
    "df_filtered[\"Location\"].dtype"
   ]
  },
  {
   "cell_type": "code",
   "execution_count": 137,
   "metadata": {},
   "outputs": [
    {
     "data": {
      "text/plain": [
       "dtype('O')"
      ]
     },
     "execution_count": 137,
     "metadata": {},
     "output_type": "execute_result"
    }
   ],
   "source": [
    "df_filtered[\"Tournament\"].dtype"
   ]
  },
  {
   "cell_type": "code",
   "execution_count": 138,
   "metadata": {},
   "outputs": [
    {
     "data": {
      "text/plain": [
       "dtype('O')"
      ]
     },
     "execution_count": 138,
     "metadata": {},
     "output_type": "execute_result"
    }
   ],
   "source": [
    "df_filtered[\"Date\"].dtype"
   ]
  },
  {
   "cell_type": "markdown",
   "metadata": {},
   "source": [
    "Cambiamos el tipo de Date de \"objeto\" a \"fecha\""
   ]
  },
  {
   "cell_type": "code",
   "execution_count": 139,
   "metadata": {},
   "outputs": [
    {
     "name": "stderr",
     "output_type": "stream",
     "text": [
      "C:\\Users\\Nico\\AppData\\Local\\Temp\\ipykernel_20092\\357875077.py:1: UserWarning: Parsing dates in %d/%m/%Y format when dayfirst=False (the default) was specified. Pass `dayfirst=True` or specify a format to silence this warning.\n",
      "  df_filtered[\"Date\"] = pd.to_datetime(df_filtered[\"Date\"])\n",
      "C:\\Users\\Nico\\AppData\\Local\\Temp\\ipykernel_20092\\357875077.py:1: SettingWithCopyWarning: \n",
      "A value is trying to be set on a copy of a slice from a DataFrame.\n",
      "Try using .loc[row_indexer,col_indexer] = value instead\n",
      "\n",
      "See the caveats in the documentation: https://pandas.pydata.org/pandas-docs/stable/user_guide/indexing.html#returning-a-view-versus-a-copy\n",
      "  df_filtered[\"Date\"] = pd.to_datetime(df_filtered[\"Date\"])\n"
     ]
    }
   ],
   "source": [
    "df_filtered[\"Date\"] = pd.to_datetime(df_filtered[\"Date\"])"
   ]
  },
  {
   "cell_type": "code",
   "execution_count": 140,
   "metadata": {},
   "outputs": [
    {
     "data": {
      "text/html": [
       "<div>\n",
       "<style scoped>\n",
       "    .dataframe tbody tr th:only-of-type {\n",
       "        vertical-align: middle;\n",
       "    }\n",
       "\n",
       "    .dataframe tbody tr th {\n",
       "        vertical-align: top;\n",
       "    }\n",
       "\n",
       "    .dataframe thead th {\n",
       "        text-align: right;\n",
       "    }\n",
       "</style>\n",
       "<table border=\"1\" class=\"dataframe\">\n",
       "  <thead>\n",
       "    <tr style=\"text-align: right;\">\n",
       "      <th></th>\n",
       "      <th>ATP</th>\n",
       "      <th>Location</th>\n",
       "      <th>Tournament</th>\n",
       "      <th>Date</th>\n",
       "      <th>Series</th>\n",
       "      <th>Court</th>\n",
       "      <th>Surface</th>\n",
       "      <th>Round</th>\n",
       "      <th>Best of</th>\n",
       "      <th>Winner</th>\n",
       "      <th>...</th>\n",
       "      <th>L3</th>\n",
       "      <th>W4</th>\n",
       "      <th>L4</th>\n",
       "      <th>W5</th>\n",
       "      <th>L5</th>\n",
       "      <th>Wsets</th>\n",
       "      <th>Lsets</th>\n",
       "      <th>Comment</th>\n",
       "      <th>WPts</th>\n",
       "      <th>LPts</th>\n",
       "    </tr>\n",
       "  </thead>\n",
       "  <tbody>\n",
       "    <tr>\n",
       "      <th>46647</th>\n",
       "      <td>54</td>\n",
       "      <td>St. Petersburg</td>\n",
       "      <td>St. Petersburg Open</td>\n",
       "      <td>2016-09-23</td>\n",
       "      <td>ATP250</td>\n",
       "      <td>Indoor</td>\n",
       "      <td>Hard</td>\n",
       "      <td>Quarterfinals</td>\n",
       "      <td>3</td>\n",
       "      <td>Zverev A.</td>\n",
       "      <td>...</td>\n",
       "      <td>NaN</td>\n",
       "      <td>NaN</td>\n",
       "      <td>NaN</td>\n",
       "      <td>NaN</td>\n",
       "      <td>NaN</td>\n",
       "      <td>2.0</td>\n",
       "      <td>0.0</td>\n",
       "      <td>Completed</td>\n",
       "      <td>1425.0</td>\n",
       "      <td>846.0</td>\n",
       "    </tr>\n",
       "    <tr>\n",
       "      <th>46648</th>\n",
       "      <td>54</td>\n",
       "      <td>St. Petersburg</td>\n",
       "      <td>St. Petersburg Open</td>\n",
       "      <td>2016-09-23</td>\n",
       "      <td>ATP250</td>\n",
       "      <td>Indoor</td>\n",
       "      <td>Hard</td>\n",
       "      <td>Quarterfinals</td>\n",
       "      <td>3</td>\n",
       "      <td>Wawrinka S.</td>\n",
       "      <td>...</td>\n",
       "      <td>NaN</td>\n",
       "      <td>NaN</td>\n",
       "      <td>NaN</td>\n",
       "      <td>NaN</td>\n",
       "      <td>NaN</td>\n",
       "      <td>2.0</td>\n",
       "      <td>0.0</td>\n",
       "      <td>Completed</td>\n",
       "      <td>6260.0</td>\n",
       "      <td>1295.0</td>\n",
       "    </tr>\n",
       "    <tr>\n",
       "      <th>46649</th>\n",
       "      <td>54</td>\n",
       "      <td>St. Petersburg</td>\n",
       "      <td>St. Petersburg Open</td>\n",
       "      <td>2016-09-24</td>\n",
       "      <td>ATP250</td>\n",
       "      <td>Indoor</td>\n",
       "      <td>Hard</td>\n",
       "      <td>Semifinals</td>\n",
       "      <td>3</td>\n",
       "      <td>Zverev A.</td>\n",
       "      <td>...</td>\n",
       "      <td>NaN</td>\n",
       "      <td>NaN</td>\n",
       "      <td>NaN</td>\n",
       "      <td>NaN</td>\n",
       "      <td>NaN</td>\n",
       "      <td>2.0</td>\n",
       "      <td>0.0</td>\n",
       "      <td>Completed</td>\n",
       "      <td>1425.0</td>\n",
       "      <td>3390.0</td>\n",
       "    </tr>\n",
       "    <tr>\n",
       "      <th>46650</th>\n",
       "      <td>54</td>\n",
       "      <td>St. Petersburg</td>\n",
       "      <td>St. Petersburg Open</td>\n",
       "      <td>2016-09-24</td>\n",
       "      <td>ATP250</td>\n",
       "      <td>Indoor</td>\n",
       "      <td>Hard</td>\n",
       "      <td>Semifinals</td>\n",
       "      <td>3</td>\n",
       "      <td>Wawrinka S.</td>\n",
       "      <td>...</td>\n",
       "      <td>NaN</td>\n",
       "      <td>NaN</td>\n",
       "      <td>NaN</td>\n",
       "      <td>NaN</td>\n",
       "      <td>NaN</td>\n",
       "      <td>2.0</td>\n",
       "      <td>0.0</td>\n",
       "      <td>Completed</td>\n",
       "      <td>6260.0</td>\n",
       "      <td>1950.0</td>\n",
       "    </tr>\n",
       "    <tr>\n",
       "      <th>46651</th>\n",
       "      <td>54</td>\n",
       "      <td>St. Petersburg</td>\n",
       "      <td>St. Petersburg Open</td>\n",
       "      <td>2016-09-25</td>\n",
       "      <td>ATP250</td>\n",
       "      <td>Indoor</td>\n",
       "      <td>Hard</td>\n",
       "      <td>The Final</td>\n",
       "      <td>3</td>\n",
       "      <td>Zverev A.</td>\n",
       "      <td>...</td>\n",
       "      <td>5.0</td>\n",
       "      <td>NaN</td>\n",
       "      <td>NaN</td>\n",
       "      <td>NaN</td>\n",
       "      <td>NaN</td>\n",
       "      <td>2.0</td>\n",
       "      <td>1.0</td>\n",
       "      <td>Completed</td>\n",
       "      <td>1425.0</td>\n",
       "      <td>6260.0</td>\n",
       "    </tr>\n",
       "  </tbody>\n",
       "</table>\n",
       "<p>5 rows × 28 columns</p>\n",
       "</div>"
      ],
      "text/plain": [
       "       ATP        Location           Tournament       Date  Series   Court  \\\n",
       "46647   54  St. Petersburg  St. Petersburg Open 2016-09-23  ATP250  Indoor   \n",
       "46648   54  St. Petersburg  St. Petersburg Open 2016-09-23  ATP250  Indoor   \n",
       "46649   54  St. Petersburg  St. Petersburg Open 2016-09-24  ATP250  Indoor   \n",
       "46650   54  St. Petersburg  St. Petersburg Open 2016-09-24  ATP250  Indoor   \n",
       "46651   54  St. Petersburg  St. Petersburg Open 2016-09-25  ATP250  Indoor   \n",
       "\n",
       "      Surface          Round  Best of       Winner  ...   L3  W4  L4  W5  L5  \\\n",
       "46647    Hard  Quarterfinals        3    Zverev A.  ...  NaN NaN NaN NaN NaN   \n",
       "46648    Hard  Quarterfinals        3  Wawrinka S.  ...  NaN NaN NaN NaN NaN   \n",
       "46649    Hard     Semifinals        3    Zverev A.  ...  NaN NaN NaN NaN NaN   \n",
       "46650    Hard     Semifinals        3  Wawrinka S.  ...  NaN NaN NaN NaN NaN   \n",
       "46651    Hard      The Final        3    Zverev A.  ...  5.0 NaN NaN NaN NaN   \n",
       "\n",
       "       Wsets  Lsets    Comment    WPts    LPts  \n",
       "46647    2.0    0.0  Completed  1425.0   846.0  \n",
       "46648    2.0    0.0  Completed  6260.0  1295.0  \n",
       "46649    2.0    0.0  Completed  1425.0  3390.0  \n",
       "46650    2.0    0.0  Completed  6260.0  1950.0  \n",
       "46651    2.0    1.0  Completed  1425.0  6260.0  \n",
       "\n",
       "[5 rows x 28 columns]"
      ]
     },
     "execution_count": 140,
     "metadata": {},
     "output_type": "execute_result"
    }
   ],
   "source": [
    "df_filtered.tail()"
   ]
  },
  {
   "cell_type": "code",
   "execution_count": 141,
   "metadata": {},
   "outputs": [
    {
     "data": {
      "text/plain": [
       "dtype('float64')"
      ]
     },
     "execution_count": 141,
     "metadata": {},
     "output_type": "execute_result"
    }
   ],
   "source": [
    "df_filtered[\"Series\"].dtype\n",
    "df_filtered[\"Court\"].dtype\n",
    "df_filtered[\"Surface\"].dtype\n",
    "df_filtered[\"Round\"].dtype\n",
    "df_filtered[\"Winner\"].dtype \n",
    "df_filtered[\"Loser\"].dtype\n",
    "df_filtered[\"WRank\"].dtype\n",
    "df_filtered[\"LRank\"].dtype\n",
    "df_filtered[\"WPts\"].dtype\n",
    "df_filtered[\"LPts\"].dtype\n",
    "df_filtered[\"W1\"].dtype\n",
    "df_filtered[\"L1\"].dtype\n",
    "df_filtered[\"W2\"].dtype\n",
    "df_filtered[\"L2\"].dtype\n",
    "df_filtered[\"W3\"].dtype\n",
    "df_filtered[\"L3\"].dtype\n",
    "df_filtered[\"W4\"].dtype\n",
    "df_filtered[\"L4\"].dtype\n",
    "df_filtered[\"W5\"].dtype\n",
    "df_filtered[\"L5\"].dtype\n",
    "df_filtered[\"Wsets\"].dtype\n",
    "df_filtered[\"Lsets\"].dtype\n",
    "df_filtered[\"Comment\"].dtype\n",
    "df_filtered[\"WPts\"].dtype\n",
    "df_filtered[\"LPts\"].dtype\n"
   ]
  },
  {
   "cell_type": "markdown",
   "metadata": {},
   "source": [
    "Cambiamos los tipos de datos de \"WRank\" en adelante de float a int, ya que no nos interesan los decimales."
   ]
  },
  {
   "cell_type": "code",
   "execution_count": 142,
   "metadata": {},
   "outputs": [
    {
     "name": "stderr",
     "output_type": "stream",
     "text": [
      "C:\\Users\\Nico\\AppData\\Local\\Temp\\ipykernel_20092\\1648013579.py:1: SettingWithCopyWarning: \n",
      "A value is trying to be set on a copy of a slice from a DataFrame.\n",
      "Try using .loc[row_indexer,col_indexer] = value instead\n",
      "\n",
      "See the caveats in the documentation: https://pandas.pydata.org/pandas-docs/stable/user_guide/indexing.html#returning-a-view-versus-a-copy\n",
      "  df_filtered[\"WRank\"] = df_filtered[\"WRank\"].fillna(0).astype(int)\n",
      "C:\\Users\\Nico\\AppData\\Local\\Temp\\ipykernel_20092\\1648013579.py:2: SettingWithCopyWarning: \n",
      "A value is trying to be set on a copy of a slice from a DataFrame.\n",
      "Try using .loc[row_indexer,col_indexer] = value instead\n",
      "\n",
      "See the caveats in the documentation: https://pandas.pydata.org/pandas-docs/stable/user_guide/indexing.html#returning-a-view-versus-a-copy\n",
      "  df_filtered[\"LRank\"] = df_filtered[\"LRank\"].fillna(0).astype(int)\n",
      "C:\\Users\\Nico\\AppData\\Local\\Temp\\ipykernel_20092\\1648013579.py:3: SettingWithCopyWarning: \n",
      "A value is trying to be set on a copy of a slice from a DataFrame.\n",
      "Try using .loc[row_indexer,col_indexer] = value instead\n",
      "\n",
      "See the caveats in the documentation: https://pandas.pydata.org/pandas-docs/stable/user_guide/indexing.html#returning-a-view-versus-a-copy\n",
      "  df_filtered[\"WPts\"] = df_filtered[\"WPts\"].fillna(0).astype(int)\n",
      "C:\\Users\\Nico\\AppData\\Local\\Temp\\ipykernel_20092\\1648013579.py:4: SettingWithCopyWarning: \n",
      "A value is trying to be set on a copy of a slice from a DataFrame.\n",
      "Try using .loc[row_indexer,col_indexer] = value instead\n",
      "\n",
      "See the caveats in the documentation: https://pandas.pydata.org/pandas-docs/stable/user_guide/indexing.html#returning-a-view-versus-a-copy\n",
      "  df_filtered[\"LPts\"] = df_filtered[\"LPts\"].fillna(0).astype(int)\n",
      "C:\\Users\\Nico\\AppData\\Local\\Temp\\ipykernel_20092\\1648013579.py:5: SettingWithCopyWarning: \n",
      "A value is trying to be set on a copy of a slice from a DataFrame.\n",
      "Try using .loc[row_indexer,col_indexer] = value instead\n",
      "\n",
      "See the caveats in the documentation: https://pandas.pydata.org/pandas-docs/stable/user_guide/indexing.html#returning-a-view-versus-a-copy\n",
      "  df_filtered[\"W1\"] = df_filtered[\"W1\"].fillna(0).astype(int)\n",
      "C:\\Users\\Nico\\AppData\\Local\\Temp\\ipykernel_20092\\1648013579.py:6: SettingWithCopyWarning: \n",
      "A value is trying to be set on a copy of a slice from a DataFrame.\n",
      "Try using .loc[row_indexer,col_indexer] = value instead\n",
      "\n",
      "See the caveats in the documentation: https://pandas.pydata.org/pandas-docs/stable/user_guide/indexing.html#returning-a-view-versus-a-copy\n",
      "  df_filtered[\"L1\"] = df_filtered[\"L1\"].fillna(0).astype(int)\n",
      "C:\\Users\\Nico\\AppData\\Local\\Temp\\ipykernel_20092\\1648013579.py:7: SettingWithCopyWarning: \n",
      "A value is trying to be set on a copy of a slice from a DataFrame.\n",
      "Try using .loc[row_indexer,col_indexer] = value instead\n",
      "\n",
      "See the caveats in the documentation: https://pandas.pydata.org/pandas-docs/stable/user_guide/indexing.html#returning-a-view-versus-a-copy\n",
      "  df_filtered[\"W2\"] = df_filtered[\"W2\"].fillna(0).astype(int)\n",
      "C:\\Users\\Nico\\AppData\\Local\\Temp\\ipykernel_20092\\1648013579.py:8: SettingWithCopyWarning: \n",
      "A value is trying to be set on a copy of a slice from a DataFrame.\n",
      "Try using .loc[row_indexer,col_indexer] = value instead\n",
      "\n",
      "See the caveats in the documentation: https://pandas.pydata.org/pandas-docs/stable/user_guide/indexing.html#returning-a-view-versus-a-copy\n",
      "  df_filtered[\"L2\"] = df_filtered[\"L2\"].fillna(0).astype(int)\n",
      "C:\\Users\\Nico\\AppData\\Local\\Temp\\ipykernel_20092\\1648013579.py:9: SettingWithCopyWarning: \n",
      "A value is trying to be set on a copy of a slice from a DataFrame.\n",
      "Try using .loc[row_indexer,col_indexer] = value instead\n",
      "\n",
      "See the caveats in the documentation: https://pandas.pydata.org/pandas-docs/stable/user_guide/indexing.html#returning-a-view-versus-a-copy\n",
      "  df_filtered[\"W3\"] = df_filtered[\"W3\"].fillna(0).astype(int)\n",
      "C:\\Users\\Nico\\AppData\\Local\\Temp\\ipykernel_20092\\1648013579.py:10: SettingWithCopyWarning: \n",
      "A value is trying to be set on a copy of a slice from a DataFrame.\n",
      "Try using .loc[row_indexer,col_indexer] = value instead\n",
      "\n",
      "See the caveats in the documentation: https://pandas.pydata.org/pandas-docs/stable/user_guide/indexing.html#returning-a-view-versus-a-copy\n",
      "  df_filtered[\"L3\"] = df_filtered[\"L3\"].fillna(0).astype(int)\n",
      "C:\\Users\\Nico\\AppData\\Local\\Temp\\ipykernel_20092\\1648013579.py:11: SettingWithCopyWarning: \n",
      "A value is trying to be set on a copy of a slice from a DataFrame.\n",
      "Try using .loc[row_indexer,col_indexer] = value instead\n",
      "\n",
      "See the caveats in the documentation: https://pandas.pydata.org/pandas-docs/stable/user_guide/indexing.html#returning-a-view-versus-a-copy\n",
      "  df_filtered[\"W4\"] = df_filtered[\"W4\"].fillna(0).astype(int)\n",
      "C:\\Users\\Nico\\AppData\\Local\\Temp\\ipykernel_20092\\1648013579.py:12: SettingWithCopyWarning: \n",
      "A value is trying to be set on a copy of a slice from a DataFrame.\n",
      "Try using .loc[row_indexer,col_indexer] = value instead\n",
      "\n",
      "See the caveats in the documentation: https://pandas.pydata.org/pandas-docs/stable/user_guide/indexing.html#returning-a-view-versus-a-copy\n",
      "  df_filtered[\"L4\"] = df_filtered[\"L4\"].fillna(0).astype(int)\n",
      "C:\\Users\\Nico\\AppData\\Local\\Temp\\ipykernel_20092\\1648013579.py:13: SettingWithCopyWarning: \n",
      "A value is trying to be set on a copy of a slice from a DataFrame.\n",
      "Try using .loc[row_indexer,col_indexer] = value instead\n",
      "\n",
      "See the caveats in the documentation: https://pandas.pydata.org/pandas-docs/stable/user_guide/indexing.html#returning-a-view-versus-a-copy\n",
      "  df_filtered[\"W5\"] = df_filtered[\"W5\"].fillna(0).astype(int)\n",
      "C:\\Users\\Nico\\AppData\\Local\\Temp\\ipykernel_20092\\1648013579.py:14: SettingWithCopyWarning: \n",
      "A value is trying to be set on a copy of a slice from a DataFrame.\n",
      "Try using .loc[row_indexer,col_indexer] = value instead\n",
      "\n",
      "See the caveats in the documentation: https://pandas.pydata.org/pandas-docs/stable/user_guide/indexing.html#returning-a-view-versus-a-copy\n",
      "  df_filtered[\"L5\"] = df_filtered[\"L5\"].fillna(0).astype(int)\n",
      "C:\\Users\\Nico\\AppData\\Local\\Temp\\ipykernel_20092\\1648013579.py:15: SettingWithCopyWarning: \n",
      "A value is trying to be set on a copy of a slice from a DataFrame.\n",
      "Try using .loc[row_indexer,col_indexer] = value instead\n",
      "\n",
      "See the caveats in the documentation: https://pandas.pydata.org/pandas-docs/stable/user_guide/indexing.html#returning-a-view-versus-a-copy\n",
      "  df_filtered[\"Wsets\"] = df_filtered[\"Wsets\"].fillna(0).astype(int)\n",
      "C:\\Users\\Nico\\AppData\\Local\\Temp\\ipykernel_20092\\1648013579.py:16: SettingWithCopyWarning: \n",
      "A value is trying to be set on a copy of a slice from a DataFrame.\n",
      "Try using .loc[row_indexer,col_indexer] = value instead\n",
      "\n",
      "See the caveats in the documentation: https://pandas.pydata.org/pandas-docs/stable/user_guide/indexing.html#returning-a-view-versus-a-copy\n",
      "  df_filtered[\"Lsets\"] = df_filtered[\"Lsets\"].fillna(0).astype(int)\n",
      "C:\\Users\\Nico\\AppData\\Local\\Temp\\ipykernel_20092\\1648013579.py:17: SettingWithCopyWarning: \n",
      "A value is trying to be set on a copy of a slice from a DataFrame.\n",
      "Try using .loc[row_indexer,col_indexer] = value instead\n",
      "\n",
      "See the caveats in the documentation: https://pandas.pydata.org/pandas-docs/stable/user_guide/indexing.html#returning-a-view-versus-a-copy\n",
      "  df_filtered[\"WPts\"] = df_filtered[\"WPts\"].fillna(0).astype(int)\n",
      "C:\\Users\\Nico\\AppData\\Local\\Temp\\ipykernel_20092\\1648013579.py:18: SettingWithCopyWarning: \n",
      "A value is trying to be set on a copy of a slice from a DataFrame.\n",
      "Try using .loc[row_indexer,col_indexer] = value instead\n",
      "\n",
      "See the caveats in the documentation: https://pandas.pydata.org/pandas-docs/stable/user_guide/indexing.html#returning-a-view-versus-a-copy\n",
      "  df_filtered[\"LPts\"] = df_filtered[\"LPts\"].fillna(0).astype(int)\n"
     ]
    }
   ],
   "source": [
    "df_filtered[\"WRank\"] = df_filtered[\"WRank\"].fillna(0).astype(int)\n",
    "df_filtered[\"LRank\"] = df_filtered[\"LRank\"].fillna(0).astype(int)\n",
    "df_filtered[\"WPts\"] = df_filtered[\"WPts\"].fillna(0).astype(int)\n",
    "df_filtered[\"LPts\"] = df_filtered[\"LPts\"].fillna(0).astype(int)\n",
    "df_filtered[\"W1\"] = df_filtered[\"W1\"].fillna(0).astype(int)\n",
    "df_filtered[\"L1\"] = df_filtered[\"L1\"].fillna(0).astype(int)\n",
    "df_filtered[\"W2\"] = df_filtered[\"W2\"].fillna(0).astype(int)\n",
    "df_filtered[\"L2\"] = df_filtered[\"L2\"].fillna(0).astype(int)\n",
    "df_filtered[\"W3\"] = df_filtered[\"W3\"].fillna(0).astype(int)\n",
    "df_filtered[\"L3\"] = df_filtered[\"L3\"].fillna(0).astype(int)\n",
    "df_filtered[\"W4\"] = df_filtered[\"W4\"].fillna(0).astype(int)\n",
    "df_filtered[\"L4\"] = df_filtered[\"L4\"].fillna(0).astype(int)\n",
    "df_filtered[\"W5\"] = df_filtered[\"W5\"].fillna(0).astype(int)\n",
    "df_filtered[\"L5\"] = df_filtered[\"L5\"].fillna(0).astype(int)\n",
    "df_filtered[\"Wsets\"] = df_filtered[\"Wsets\"].fillna(0).astype(int)\n",
    "df_filtered[\"Lsets\"] = df_filtered[\"Lsets\"].fillna(0).astype(int)\n",
    "df_filtered[\"WPts\"] = df_filtered[\"WPts\"].fillna(0).astype(int)\n",
    "df_filtered[\"LPts\"] = df_filtered[\"LPts\"].fillna(0).astype(int)"
   ]
  },
  {
   "cell_type": "markdown",
   "metadata": {},
   "source": [
    "Revisamos si se realizó el cambio correctamente"
   ]
  },
  {
   "cell_type": "code",
   "execution_count": 143,
   "metadata": {},
   "outputs": [
    {
     "data": {
      "text/html": [
       "<div>\n",
       "<style scoped>\n",
       "    .dataframe tbody tr th:only-of-type {\n",
       "        vertical-align: middle;\n",
       "    }\n",
       "\n",
       "    .dataframe tbody tr th {\n",
       "        vertical-align: top;\n",
       "    }\n",
       "\n",
       "    .dataframe thead th {\n",
       "        text-align: right;\n",
       "    }\n",
       "</style>\n",
       "<table border=\"1\" class=\"dataframe\">\n",
       "  <thead>\n",
       "    <tr style=\"text-align: right;\">\n",
       "      <th></th>\n",
       "      <th>ATP</th>\n",
       "      <th>Location</th>\n",
       "      <th>Tournament</th>\n",
       "      <th>Date</th>\n",
       "      <th>Series</th>\n",
       "      <th>Court</th>\n",
       "      <th>Surface</th>\n",
       "      <th>Round</th>\n",
       "      <th>Best of</th>\n",
       "      <th>Winner</th>\n",
       "      <th>...</th>\n",
       "      <th>L3</th>\n",
       "      <th>W4</th>\n",
       "      <th>L4</th>\n",
       "      <th>W5</th>\n",
       "      <th>L5</th>\n",
       "      <th>Wsets</th>\n",
       "      <th>Lsets</th>\n",
       "      <th>Comment</th>\n",
       "      <th>WPts</th>\n",
       "      <th>LPts</th>\n",
       "    </tr>\n",
       "  </thead>\n",
       "  <tbody>\n",
       "    <tr>\n",
       "      <th>155</th>\n",
       "      <td>6</td>\n",
       "      <td>Melbourne</td>\n",
       "      <td>Australian Open</td>\n",
       "      <td>2000-01-17</td>\n",
       "      <td>Grand Slam</td>\n",
       "      <td>Outdoor</td>\n",
       "      <td>Hard</td>\n",
       "      <td>1st Round</td>\n",
       "      <td>5</td>\n",
       "      <td>Agassi A.</td>\n",
       "      <td>...</td>\n",
       "      <td>3</td>\n",
       "      <td>0</td>\n",
       "      <td>0</td>\n",
       "      <td>0</td>\n",
       "      <td>0</td>\n",
       "      <td>3</td>\n",
       "      <td>0</td>\n",
       "      <td>Completed</td>\n",
       "      <td>0</td>\n",
       "      <td>0</td>\n",
       "    </tr>\n",
       "    <tr>\n",
       "      <th>156</th>\n",
       "      <td>6</td>\n",
       "      <td>Melbourne</td>\n",
       "      <td>Australian Open</td>\n",
       "      <td>2000-01-17</td>\n",
       "      <td>Grand Slam</td>\n",
       "      <td>Outdoor</td>\n",
       "      <td>Hard</td>\n",
       "      <td>1st Round</td>\n",
       "      <td>5</td>\n",
       "      <td>Alami K.</td>\n",
       "      <td>...</td>\n",
       "      <td>5</td>\n",
       "      <td>0</td>\n",
       "      <td>0</td>\n",
       "      <td>0</td>\n",
       "      <td>0</td>\n",
       "      <td>3</td>\n",
       "      <td>0</td>\n",
       "      <td>Completed</td>\n",
       "      <td>0</td>\n",
       "      <td>0</td>\n",
       "    </tr>\n",
       "    <tr>\n",
       "      <th>157</th>\n",
       "      <td>6</td>\n",
       "      <td>Melbourne</td>\n",
       "      <td>Australian Open</td>\n",
       "      <td>2000-01-17</td>\n",
       "      <td>Grand Slam</td>\n",
       "      <td>Outdoor</td>\n",
       "      <td>Hard</td>\n",
       "      <td>1st Round</td>\n",
       "      <td>5</td>\n",
       "      <td>Arazi H.</td>\n",
       "      <td>...</td>\n",
       "      <td>2</td>\n",
       "      <td>0</td>\n",
       "      <td>0</td>\n",
       "      <td>0</td>\n",
       "      <td>0</td>\n",
       "      <td>3</td>\n",
       "      <td>0</td>\n",
       "      <td>Completed</td>\n",
       "      <td>0</td>\n",
       "      <td>0</td>\n",
       "    </tr>\n",
       "    <tr>\n",
       "      <th>158</th>\n",
       "      <td>6</td>\n",
       "      <td>Melbourne</td>\n",
       "      <td>Australian Open</td>\n",
       "      <td>2000-01-17</td>\n",
       "      <td>Grand Slam</td>\n",
       "      <td>Outdoor</td>\n",
       "      <td>Hard</td>\n",
       "      <td>1st Round</td>\n",
       "      <td>5</td>\n",
       "      <td>Behrend T.</td>\n",
       "      <td>...</td>\n",
       "      <td>7</td>\n",
       "      <td>6</td>\n",
       "      <td>3</td>\n",
       "      <td>6</td>\n",
       "      <td>0</td>\n",
       "      <td>3</td>\n",
       "      <td>2</td>\n",
       "      <td>Completed</td>\n",
       "      <td>0</td>\n",
       "      <td>0</td>\n",
       "    </tr>\n",
       "    <tr>\n",
       "      <th>159</th>\n",
       "      <td>6</td>\n",
       "      <td>Melbourne</td>\n",
       "      <td>Australian Open</td>\n",
       "      <td>2000-01-17</td>\n",
       "      <td>Grand Slam</td>\n",
       "      <td>Outdoor</td>\n",
       "      <td>Hard</td>\n",
       "      <td>1st Round</td>\n",
       "      <td>5</td>\n",
       "      <td>Bjorkman J.</td>\n",
       "      <td>...</td>\n",
       "      <td>4</td>\n",
       "      <td>0</td>\n",
       "      <td>6</td>\n",
       "      <td>6</td>\n",
       "      <td>4</td>\n",
       "      <td>3</td>\n",
       "      <td>2</td>\n",
       "      <td>Completed</td>\n",
       "      <td>0</td>\n",
       "      <td>0</td>\n",
       "    </tr>\n",
       "  </tbody>\n",
       "</table>\n",
       "<p>5 rows × 28 columns</p>\n",
       "</div>"
      ],
      "text/plain": [
       "     ATP   Location       Tournament       Date      Series    Court Surface  \\\n",
       "155    6  Melbourne  Australian Open 2000-01-17  Grand Slam  Outdoor    Hard   \n",
       "156    6  Melbourne  Australian Open 2000-01-17  Grand Slam  Outdoor    Hard   \n",
       "157    6  Melbourne  Australian Open 2000-01-17  Grand Slam  Outdoor    Hard   \n",
       "158    6  Melbourne  Australian Open 2000-01-17  Grand Slam  Outdoor    Hard   \n",
       "159    6  Melbourne  Australian Open 2000-01-17  Grand Slam  Outdoor    Hard   \n",
       "\n",
       "         Round  Best of       Winner  ... L3  W4  L4  W5  L5  Wsets  Lsets  \\\n",
       "155  1st Round        5    Agassi A.  ...  3   0   0   0   0      3      0   \n",
       "156  1st Round        5     Alami K.  ...  5   0   0   0   0      3      0   \n",
       "157  1st Round        5     Arazi H.  ...  2   0   0   0   0      3      0   \n",
       "158  1st Round        5   Behrend T.  ...  7   6   3   6   0      3      2   \n",
       "159  1st Round        5  Bjorkman J.  ...  4   0   6   6   4      3      2   \n",
       "\n",
       "       Comment  WPts  LPts  \n",
       "155  Completed     0     0  \n",
       "156  Completed     0     0  \n",
       "157  Completed     0     0  \n",
       "158  Completed     0     0  \n",
       "159  Completed     0     0  \n",
       "\n",
       "[5 rows x 28 columns]"
      ]
     },
     "execution_count": 143,
     "metadata": {},
     "output_type": "execute_result"
    }
   ],
   "source": [
    "df_filtered.head()"
   ]
  },
  {
   "cell_type": "markdown",
   "metadata": {},
   "source": [
    "Agregaremos una columna de key al dataset y un nuevo dataset que tenga solo los torneos jugados en cada año."
   ]
  },
  {
   "cell_type": "code",
   "execution_count": 144,
   "metadata": {},
   "outputs": [
    {
     "name": "stderr",
     "output_type": "stream",
     "text": [
      "C:\\Users\\Nico\\AppData\\Local\\Temp\\ipykernel_20092\\3882314273.py:1: SettingWithCopyWarning: \n",
      "A value is trying to be set on a copy of a slice from a DataFrame.\n",
      "Try using .loc[row_indexer,col_indexer] = value instead\n",
      "\n",
      "See the caveats in the documentation: https://pandas.pydata.org/pandas-docs/stable/user_guide/indexing.html#returning-a-view-versus-a-copy\n",
      "  df_filtered[\"Date\"] = pd.to_datetime(df_filtered[\"Date\"])\n"
     ]
    },
    {
     "name": "stdout",
     "output_type": "stream",
     "text": [
      "     ATP   Location       Tournament       Date      Series    Court Surface  \\\n",
      "155    6  Melbourne  Australian Open 2000-01-17  Grand Slam  Outdoor    Hard   \n",
      "156    6  Melbourne  Australian Open 2000-01-17  Grand Slam  Outdoor    Hard   \n",
      "157    6  Melbourne  Australian Open 2000-01-17  Grand Slam  Outdoor    Hard   \n",
      "158    6  Melbourne  Australian Open 2000-01-17  Grand Slam  Outdoor    Hard   \n",
      "159    6  Melbourne  Australian Open 2000-01-17  Grand Slam  Outdoor    Hard   \n",
      "\n",
      "         Round  Best of       Winner  ... W4  L4  W5  L5  Wsets  Lsets  \\\n",
      "155  1st Round        5    Agassi A.  ...  0   0   0   0      3      0   \n",
      "156  1st Round        5     Alami K.  ...  0   0   0   0      3      0   \n",
      "157  1st Round        5     Arazi H.  ...  0   0   0   0      3      0   \n",
      "158  1st Round        5   Behrend T.  ...  6   3   6   0      3      2   \n",
      "159  1st Round        5  Bjorkman J.  ...  0   6   6   4      3      2   \n",
      "\n",
      "       Comment  WPts  LPts  Year  \n",
      "155  Completed     0     0  2000  \n",
      "156  Completed     0     0  2000  \n",
      "157  Completed     0     0  2000  \n",
      "158  Completed     0     0  2000  \n",
      "159  Completed     0     0  2000  \n",
      "\n",
      "[5 rows x 29 columns]\n"
     ]
    },
    {
     "name": "stderr",
     "output_type": "stream",
     "text": [
      "C:\\Users\\Nico\\AppData\\Local\\Temp\\ipykernel_20092\\3882314273.py:2: SettingWithCopyWarning: \n",
      "A value is trying to be set on a copy of a slice from a DataFrame.\n",
      "Try using .loc[row_indexer,col_indexer] = value instead\n",
      "\n",
      "See the caveats in the documentation: https://pandas.pydata.org/pandas-docs/stable/user_guide/indexing.html#returning-a-view-versus-a-copy\n",
      "  df_filtered[\"Year\"] = df_filtered[\"Date\"].dt.year\n"
     ]
    }
   ],
   "source": [
    "df_filtered[\"Date\"] = pd.to_datetime(df_filtered[\"Date\"])\n",
    "df_filtered[\"Year\"] = df_filtered[\"Date\"].dt.year\n",
    "print(df_filtered.head())"
   ]
  },
  {
   "cell_type": "code",
   "execution_count": 145,
   "metadata": {},
   "outputs": [
    {
     "name": "stdout",
     "output_type": "stream",
     "text": [
      "                                         Tournament  Year        Series  \\\n",
      "155                                 Australian Open  2000    GRAND SLAM   \n",
      "1289                                    French Open  2000    GRAND SLAM   \n",
      "1564                                      Wimbledon  2000    GRAND SLAM   \n",
      "2269                                        US Open  2000    GRAND SLAM   \n",
      "3118                                Australian Open  2001    GRAND SLAM   \n",
      "...                                             ...   ...           ...   \n",
      "46369    Western & Southern Financial Group Masters  2016  MASTERS 1000   \n",
      "46424  Winston-Salem Open at Wake Forest University  2016        ATP250   \n",
      "46471                                       US Open  2016    GRAND SLAM   \n",
      "46598                               Open de Moselle  2016        ATP250   \n",
      "46625                           St. Petersburg Open  2016        ATP250   \n",
      "\n",
      "      Surface  \n",
      "155      Hard  \n",
      "1289     Clay  \n",
      "1564    Grass  \n",
      "2269     Hard  \n",
      "3118     Hard  \n",
      "...       ...  \n",
      "46369    Hard  \n",
      "46424    Hard  \n",
      "46471    Hard  \n",
      "46598    Hard  \n",
      "46625    Hard  \n",
      "\n",
      "[591 rows x 4 columns]\n"
     ]
    },
    {
     "name": "stderr",
     "output_type": "stream",
     "text": [
      "C:\\Users\\Nico\\AppData\\Local\\Temp\\ipykernel_20092\\2622558423.py:1: SettingWithCopyWarning: \n",
      "A value is trying to be set on a copy of a slice from a DataFrame.\n",
      "Try using .loc[row_indexer,col_indexer] = value instead\n",
      "\n",
      "See the caveats in the documentation: https://pandas.pydata.org/pandas-docs/stable/user_guide/indexing.html#returning-a-view-versus-a-copy\n",
      "  df_filtered[\"Year\"] = pd.to_datetime(df_filtered[\"Date\"]).dt.year\n"
     ]
    }
   ],
   "source": [
    "df_filtered[\"Year\"] = pd.to_datetime(df_filtered[\"Date\"]).dt.year\n",
    "torneos = df_filtered[[\"Tournament\", \"Year\", \"Series\", \"Surface\"]].drop_duplicates()\n",
    "torneos[\"Series\"] = torneos[\"Series\"].str.strip().str.upper()\n",
    "torneos_validos = [\"GRAND SLAM\", \"MASTERS 1000\", \"ATP500\", \"ATP250\"]\n",
    "torneos_filtrados = torneos[torneos[\"Series\"].isin(torneos_validos)]\n",
    "print(torneos_filtrados)"
   ]
  },
  {
   "cell_type": "code",
   "execution_count": 146,
   "metadata": {},
   "outputs": [
    {
     "name": "stdout",
     "output_type": "stream",
     "text": [
      "Series\n",
      "ATP250          308\n",
      "ATP500          147\n",
      "GRAND SLAM       68\n",
      "MASTERS 1000     68\n",
      "Name: count, dtype: int64\n"
     ]
    }
   ],
   "source": [
    "print(torneos_filtrados[\"Series\"].value_counts())"
   ]
  },
  {
   "cell_type": "code",
   "execution_count": 147,
   "metadata": {},
   "outputs": [
    {
     "name": "stdout",
     "output_type": "stream",
     "text": [
      "   ATP  Location                          Tournament       Date  \\\n",
      "0    1  Adelaide  Australian Hardcourt Championships  3/01/2000   \n",
      "1    1  Adelaide  Australian Hardcourt Championships  3/01/2000   \n",
      "2    1  Adelaide  Australian Hardcourt Championships  3/01/2000   \n",
      "3    1  Adelaide  Australian Hardcourt Championships  3/01/2000   \n",
      "4    1  Adelaide  Australian Hardcourt Championships  3/01/2000   \n",
      "\n",
      "          Series    Court Surface      Round  Best of       Winner  ... UBW  \\\n",
      "0  International  Outdoor    Hard  1st Round        3   Dosedel S.  ... NaN   \n",
      "1  International  Outdoor    Hard  1st Round        3   Enqvist T.  ... NaN   \n",
      "2  International  Outdoor    Hard  1st Round        3    Escude N.  ... NaN   \n",
      "3  International  Outdoor    Hard  1st Round        3   Federer R.  ... NaN   \n",
      "4  International  Outdoor    Hard  1st Round        3  Fromberg R.  ... NaN   \n",
      "\n",
      "  UBL LBW  LBL  SJW  SJL  MaxW  MaxL  AvgW  AvgL  \n",
      "0 NaN NaN  NaN  NaN  NaN   NaN   NaN   NaN   NaN  \n",
      "1 NaN NaN  NaN  NaN  NaN   NaN   NaN   NaN   NaN  \n",
      "2 NaN NaN  NaN  NaN  NaN   NaN   NaN   NaN   NaN  \n",
      "3 NaN NaN  NaN  NaN  NaN   NaN   NaN   NaN   NaN  \n",
      "4 NaN NaN  NaN  NaN  NaN   NaN   NaN   NaN   NaN  \n",
      "\n",
      "[5 rows x 54 columns]\n"
     ]
    },
    {
     "name": "stderr",
     "output_type": "stream",
     "text": [
      "C:\\Users\\Nico\\AppData\\Local\\Temp\\ipykernel_20092\\3770870154.py:1: SettingWithCopyWarning: \n",
      "A value is trying to be set on a copy of a slice from a DataFrame.\n",
      "Try using .loc[row_indexer,col_indexer] = value instead\n",
      "\n",
      "See the caveats in the documentation: https://pandas.pydata.org/pandas-docs/stable/user_guide/indexing.html#returning-a-view-versus-a-copy\n",
      "  df_filtered[\"TorneoID\"] = df_filtered[\"Tournament\"] + \"_\" + df_filtered[\"Year\"].astype(str)\n"
     ]
    }
   ],
   "source": [
    "df_filtered[\"TorneoID\"] = df_filtered[\"Tournament\"] + \"_\" + df_filtered[\"Year\"].astype(str)\n",
    "torneos_filtrados[\"TorneoID\"] = torneos_filtrados[\"Tournament\"] + \"_\" + torneos_filtrados[\"Year\"].astype(str)\n",
    "print(df.head())"
   ]
  },
  {
   "cell_type": "code",
   "execution_count": 148,
   "metadata": {},
   "outputs": [],
   "source": [
    "torneos_filtrados = torneos_filtrados[[\"TorneoID\", \"Tournament\", \"Year\", \"Series\", \"Surface\"]]\n",
    "torneos_filtrados.to_csv(\"Data_torneos_ATP.csv\", index=False)\n",
    "df_filtered.to_csv(\"Data_Final.csv\", index=False)"
   ]
  },
  {
   "cell_type": "markdown",
   "metadata": {},
   "source": [
    "Me parece interesante crear un nuevo dataset con la cantidad de puntos que entrega cada torneo ATP."
   ]
  },
  {
   "cell_type": "code",
   "execution_count": 149,
   "metadata": {},
   "outputs": [
    {
     "name": "stdout",
     "output_type": "stream",
     "text": [
      "       ATP  Location Tournament       Date      Series    Court Surface  \\\n",
      "16772   51  New York    US Open 2005-08-29  Grand Slam  Outdoor    Hard   \n",
      "16773   51  New York    US Open 2005-08-29  Grand Slam  Outdoor    Hard   \n",
      "16774   51  New York    US Open 2005-08-29  Grand Slam  Outdoor    Hard   \n",
      "16775   51  New York    US Open 2005-08-29  Grand Slam  Outdoor    Hard   \n",
      "16776   51  New York    US Open 2005-08-29  Grand Slam  Outdoor    Hard   \n",
      "\n",
      "           Round  Best of       Winner  ... L4  W5  L5  Wsets  Lsets  \\\n",
      "16772  1st Round        5     Massu N.  ...  0   0   0      3      0   \n",
      "16773  1st Round        5     Baker B.  ...  0   0   0      3      0   \n",
      "16774  1st Round        5  Ljubicic I.  ...  0   0   0      3      0   \n",
      "16775  1st Round        5     Mello R.  ...  4   0   0      3      1   \n",
      "16776  1st Round        5   Malisse X.  ...  0   0   0      3      0   \n",
      "\n",
      "         Comment  WPts  LPts  Year      TorneoID  \n",
      "16772  Completed   665   283  2005  US Open_2005  \n",
      "16773  Completed   202  1755  2005  US Open_2005  \n",
      "16774  Completed  1360   198  2005  US Open_2005  \n",
      "16775  Completed   675   496  2005  US Open_2005  \n",
      "16776  Completed   701   495  2005  US Open_2005  \n",
      "\n",
      "[5 rows x 30 columns]\n"
     ]
    },
    {
     "name": "stderr",
     "output_type": "stream",
     "text": [
      "C:\\Users\\Nico\\AppData\\Local\\Temp\\ipykernel_20092\\1944186558.py:1: UserWarning: Boolean Series key will be reindexed to match DataFrame index.\n",
      "  df_filtrado = df_filtered[(df_filtered[\"WPts\"] > 0) | (df[\"LPts\"] > 0)]\n"
     ]
    }
   ],
   "source": [
    "df_filtrado = df_filtered[(df_filtered[\"WPts\"] > 0) | (df[\"LPts\"] > 0)]\n",
    "print(df_filtrado.head())"
   ]
  },
  {
   "cell_type": "code",
   "execution_count": 150,
   "metadata": {},
   "outputs": [
    {
     "name": "stdout",
     "output_type": "stream",
     "text": [
      "                          Tournament  Year        Player  Series  Points\n",
      "24  ABN AMRO World Tennis Tournament  2009      Nadal R.  ATP500   71300\n",
      "23  ABN AMRO World Tennis Tournament  2009     Murray A.  ATP500   36800\n",
      "22  ABN AMRO World Tennis Tournament  2009    Monfils G.  ATP500   12760\n",
      "7   ABN AMRO World Tennis Tournament  2009  Davydenko N.  ATP500   10060\n",
      "29  ABN AMRO World Tennis Tournament  2009   Tsonga J.W.  ATP500    9480\n"
     ]
    }
   ],
   "source": [
    "torneos_validos = [\"ATP250\", \"ATP500\", \"MASTERS 1000\", \"GRAND SLAM\"]\n",
    "df_ATP = df_filtered[df_filtered[\"Series\"].isin(torneos_validos)]\n",
    "winners = df_filtrado[[\"Winner\", \"WPts\", \"Tournament\", \"Year\", \"Series\"]].rename(columns={\"Winner\": \"Player\", \"WPts\": \"Points\", \"Tournament\": \"Tournament\", \"Year\": \"Year\", \"Series\": \"Series\"})\n",
    "losers = df_filtrado[[\"Loser\", \"LPts\", \"Tournament\", \"Year\", \"Series\"]].rename(columns={\"Loser\": \"Player\", \"LPts\": \"Points\", \"Tournament\": \"Tournament\", \"Year\": \"Year\", \"Series\": \"Series\"})\n",
    "puntos_totales = pd.concat([winners, losers], axis=0)\n",
    "puntos_jugador_torneo_ano = puntos_totales.groupby([\"Tournament\", \"Year\", \"Player\", \"Series\"])[\"Points\"].sum().reset_index()\n",
    "puntos_jugador_torneo_ano = puntos_jugador_torneo_ano.sort_values(by=[\"Tournament\", \"Year\", \"Series\", \"Points\"], ascending=False)\n",
    "puntos_jugador_torneo_ano = puntos_jugador_torneo_ano.sort_values(by=[\"Tournament\", \"Year\", \"Points\"], ascending=[True, True, False])\n",
    "print(puntos_jugador_torneo_ano.head())"
   ]
  },
  {
   "cell_type": "code",
   "execution_count": 151,
   "metadata": {},
   "outputs": [
    {
     "name": "stdout",
     "output_type": "stream",
     "text": [
      "       ATP  Location     Tournament       Date  Series    Court Surface  \\\n",
      "25942    4  Auckland  Heineken Open 2009-01-12  ATP250  Outdoor    Hard   \n",
      "25943    4  Auckland  Heineken Open 2009-01-12  ATP250  Outdoor    Hard   \n",
      "25944    4  Auckland  Heineken Open 2009-01-12  ATP250  Outdoor    Hard   \n",
      "25945    4  Auckland  Heineken Open 2009-01-12  ATP250  Outdoor    Hard   \n",
      "25946    4  Auckland  Heineken Open 2009-01-12  ATP250  Outdoor    Hard   \n",
      "\n",
      "           Round  Best of        Winner  ... L4  W5  L5  Wsets  Lsets  \\\n",
      "25942  1st Round        3    Querrey S.  ...  0   0   0      2      0   \n",
      "25943  1st Round        3  Ferrero J.C.  ...  0   0   0      0      0   \n",
      "25944  1st Round        3    Ginepri R.  ...  0   0   0      2      0   \n",
      "25945  1st Round        3    Troicki V.  ...  0   0   0      2      0   \n",
      "25946  1st Round        3     Muller G.  ...  0   0   0      2      0   \n",
      "\n",
      "         Comment  WPts  LPts  Year            TorneoID  \n",
      "25942  Completed  1740   120  2009  Heineken Open_2009  \n",
      "25943    Retired  1170  1325  2009  Heineken Open_2009  \n",
      "25944  Completed  1480    26  2009  Heineken Open_2009  \n",
      "25945  Completed  1380  1562  2009  Heineken Open_2009  \n",
      "25946  Completed   956  1339  2009  Heineken Open_2009  \n",
      "\n",
      "[5 rows x 30 columns]\n"
     ]
    }
   ],
   "source": [
    "print(df_filtrado[df_filtrado[\"Series\"] == \"ATP250\"].head())"
   ]
  },
  {
   "cell_type": "code",
   "execution_count": 152,
   "metadata": {},
   "outputs": [
    {
     "name": "stdout",
     "output_type": "stream",
     "text": [
      "        Series          Round  Points\n",
      "27  Grand Slam  Quarterfinals     400\n",
      "28  Grand Slam      4th Round     200\n",
      "29  Grand Slam      3rd Round     100\n",
      "30  Grand Slam      2nd Round      50\n",
      "31  Grand Slam      1st Round      10\n"
     ]
    }
   ],
   "source": [
    "# Crear una lista de los puntos por ronda para cada tipo de torneo\n",
    "data = {\n",
    "    'Series': ['ATP250', 'ATP250', 'ATP250', 'ATP250', 'ATP250', 'ATP250', 'ATP250', 'ATP250',\n",
    "                        'ATP500', 'ATP500', 'ATP500', 'ATP500', 'ATP500', 'ATP500', 'ATP500', 'ATP500',\n",
    "                        'Masters 1000', 'Masters 1000', 'Masters 1000', 'Masters 1000', 'Masters 1000', 'Masters 1000', 'Masters 1000', 'Masters 1000',\n",
    "                        'Grand Slam', 'Grand Slam', 'Grand Slam', 'Grand Slam', 'Grand Slam', 'Grand Slam', 'Grand Slam', 'Grand Slam'],\n",
    "    'Round': ['Champion', 'Runner-Up', 'Semifinals', 'Quarterfinals', '4th Round', '3rd Round', '2nd Round', '1st Round',\n",
    "              'Champion', 'Runner-Up', 'Semifinals', 'Quarterfinals', '4th Round', '3rd Round', '2nd Round', '1st Round',\n",
    "              'Champion', 'Runner-Up', 'Semifinals', 'Quarterfinals', '4th Round', '3rd Round', '2nd Round', '1st Round',\n",
    "              'Champion', 'Runner-Up', 'Semifinals', 'Quarterfinals', '4th Round', '3rd Round', '2nd Round', '1st Round'],\n",
    "    'Points': [250, 165, 100, 50, 25, 13, 0, 0,\n",
    "               500, 330, 200, 100, 50, 25, 0, 0,\n",
    "               1000, 650, 400, 200, 100, 50, 30, 10,\n",
    "               2000, 1300, 800, 400, 200, 100, 50, 10]\n",
    "}\n",
    "\n",
    "# Crear el DataFrame con los puntos\n",
    "points_df = pd.DataFrame(data)\n",
    "\n",
    "# Mostrar el DataFrame\n",
    "print(points_df.tail())"
   ]
  },
  {
   "cell_type": "code",
   "execution_count": 153,
   "metadata": {},
   "outputs": [],
   "source": [
    "#Agregamos una key, para unir los puntos a los torneos\n",
    "points_df['key'] = points_df['Series'] + \"_\" + points_df['Round'].astype(str)"
   ]
  },
  {
   "cell_type": "code",
   "execution_count": 154,
   "metadata": {},
   "outputs": [],
   "source": [
    "points_df.to_csv(\"Data_Puntos_ATP.csv\", index=False)"
   ]
  },
  {
   "cell_type": "markdown",
   "metadata": {},
   "source": [
    "Ahora verificamos cuantas rondas tienen los torneos."
   ]
  },
  {
   "cell_type": "code",
   "execution_count": 155,
   "metadata": {},
   "outputs": [
    {
     "name": "stdout",
     "output_type": "stream",
     "text": [
      "['1st Round' '2nd Round' 'Quarterfinals' 'Semifinals' 'The Final'\n",
      " '3rd Round' '0th Round']\n",
      "Round\n",
      "1st Round        4129\n",
      "2nd Round        2577\n",
      "Quarterfinals    1232\n",
      "Semifinals        616\n",
      "The Final         308\n",
      "3rd Round         113\n",
      "0th Round           1\n",
      "Name: count, dtype: int64\n"
     ]
    }
   ],
   "source": [
    "#ATP250\n",
    "atp250 = df_filtered[df_filtered['Series'] == 'ATP250']\n",
    "rondas_atp250 = atp250['Round'].unique()\n",
    "print(rondas_atp250)\n",
    "rondas_conteo = atp250['Round'].value_counts()\n",
    "print(rondas_conteo)"
   ]
  },
  {
   "cell_type": "markdown",
   "metadata": {},
   "source": [
    "Eliminaremos la fila con 0th Round que aparece, ya que no aporta nada."
   ]
  },
  {
   "cell_type": "code",
   "execution_count": 156,
   "metadata": {},
   "outputs": [],
   "source": [
    "df_filtered2 = df_filtered[~((df_filtered['Series'] == 'ATP250') & (df_filtered['Round'] == '0th Round'))]"
   ]
  },
  {
   "cell_type": "code",
   "execution_count": 157,
   "metadata": {},
   "outputs": [
    {
     "name": "stdout",
     "output_type": "stream",
     "text": [
      "['1st Round' '2nd Round' 'Quarterfinals' 'Semifinals' 'The Final'\n",
      " '3rd Round']\n",
      "Round\n",
      "1st Round        4129\n",
      "2nd Round        2577\n",
      "Quarterfinals    1232\n",
      "Semifinals        616\n",
      "The Final         308\n",
      "3rd Round         113\n",
      "Name: count, dtype: int64\n"
     ]
    }
   ],
   "source": [
    "#ATP250\n",
    "atp250 = df_filtered2[df_filtered2['Series'] == 'ATP250']\n",
    "rondas_atp250 = atp250['Round'].unique()\n",
    "print(rondas_atp250)\n",
    "rondas_conteo = atp250['Round'].value_counts()\n",
    "print(rondas_conteo)"
   ]
  },
  {
   "cell_type": "code",
   "execution_count": 158,
   "metadata": {},
   "outputs": [
    {
     "name": "stdout",
     "output_type": "stream",
     "text": [
      "['1st Round' '2nd Round' 'Quarterfinals' 'Semifinals' 'The Final'\n",
      " '3rd Round']\n",
      "Round\n",
      "1st Round        1452\n",
      "2nd Round         888\n",
      "Quarterfinals     356\n",
      "Semifinals        178\n",
      "3rd Round         176\n",
      "The Final          89\n",
      "Name: count, dtype: int64\n"
     ]
    }
   ],
   "source": [
    "#ATP500\n",
    "atp500 = df_filtered2[df_filtered2['Series'] == 'ATP500']\n",
    "rondas_atp500 = atp500['Round'].unique()\n",
    "print(rondas_atp500)\n",
    "rondas_conteo = atp500['Round'].value_counts()\n",
    "print(rondas_conteo)"
   ]
  },
  {
   "cell_type": "code",
   "execution_count": 159,
   "metadata": {},
   "outputs": [
    {
     "name": "stdout",
     "output_type": "stream",
     "text": [
      "['1st Round' '2nd Round' '3rd Round' '4th Round' 'Quarterfinals'\n",
      " 'Semifinals' 'The Final']\n",
      "Round\n",
      "1st Round        1704\n",
      "2nd Round        1344\n",
      "3rd Round         672\n",
      "Quarterfinals     272\n",
      "Semifinals        136\n",
      "4th Round         128\n",
      "The Final          68\n",
      "Name: count, dtype: int64\n"
     ]
    }
   ],
   "source": [
    "#Masters 1000\n",
    "masters1000 = df_filtered2[df_filtered2['Series'] == 'Masters 1000']\n",
    "rondas_masters1000 = masters1000['Round'].unique()\n",
    "print(rondas_masters1000)\n",
    "rondas_conteo = masters1000['Round'].value_counts()\n",
    "print(rondas_conteo)"
   ]
  },
  {
   "cell_type": "code",
   "execution_count": 160,
   "metadata": {},
   "outputs": [
    {
     "name": "stdout",
     "output_type": "stream",
     "text": [
      "['1st Round' '2nd Round' '3rd Round' '4th Round' 'Quarterfinals'\n",
      " 'Semifinals' 'The Final']\n",
      "Round\n",
      "1st Round        4352\n",
      "2nd Round        2176\n",
      "3rd Round        1088\n",
      "4th Round         544\n",
      "Quarterfinals     272\n",
      "Semifinals        136\n",
      "The Final          68\n",
      "Name: count, dtype: int64\n"
     ]
    }
   ],
   "source": [
    "#Grand Slam\n",
    "grandslam = df_filtered2[df_filtered2['Series'] == 'Grand Slam']\n",
    "rondas_grandslam = grandslam['Round'].unique()\n",
    "print(rondas_grandslam)\n",
    "rondas_conteo = grandslam['Round'].value_counts()\n",
    "print(rondas_conteo)"
   ]
  },
  {
   "cell_type": "markdown",
   "metadata": {},
   "source": [
    "Como los ATP 250 y ATP 500 solamente tienen 3 rondas lo que haré será sumarle una ronda a cada ronda de estos torneos, es decir, el 1st Round será 2nd Round, el 2nd Round será 3rd Round y el 3rd Round será 4th Round."
   ]
  },
  {
   "cell_type": "code",
   "execution_count": 161,
   "metadata": {},
   "outputs": [],
   "source": [
    "# Cambiar '3th Round' a '4th Round' en torneos ATP250 y ATP500\n",
    "df_filtered2.loc[\n",
    "    (df_filtered2['Series'].isin(['ATP250', 'ATP500'])) &\n",
    "    (df_filtered2['Round'] == '3rd Round'),\n",
    "    'Round'\n",
    "] = '4th Round'"
   ]
  },
  {
   "cell_type": "code",
   "execution_count": 162,
   "metadata": {},
   "outputs": [],
   "source": [
    "# Cambiar '2nd Round' a '3rd Round' en torneos ATP250 y ATP500\n",
    "df_filtered2.loc[\n",
    "    (df_filtered2['Series'].isin(['ATP250', 'ATP500'])) &\n",
    "    (df_filtered2['Round'] == '2nd Round'),\n",
    "    'Round'\n",
    "] = '3rd Round'"
   ]
  },
  {
   "cell_type": "code",
   "execution_count": 163,
   "metadata": {},
   "outputs": [],
   "source": [
    "# Cambiar '1st Round' a '2nd Round' en torneos ATP250 y ATP500\n",
    "df_filtered2.loc[\n",
    "    (df_filtered2['Series'].isin(['ATP250', 'ATP500'])) &\n",
    "    (df_filtered2['Round'] == '1st Round'),\n",
    "    'Round'\n",
    "] = '2nd Round'"
   ]
  },
  {
   "cell_type": "markdown",
   "metadata": {},
   "source": [
    "Verificamos si se aplicó correctamente."
   ]
  },
  {
   "cell_type": "code",
   "execution_count": 164,
   "metadata": {},
   "outputs": [
    {
     "name": "stdout",
     "output_type": "stream",
     "text": [
      "['2nd Round' '3rd Round' 'Quarterfinals' 'Semifinals' 'The Final'\n",
      " '4th Round']\n",
      "Round\n",
      "2nd Round        4129\n",
      "3rd Round        2577\n",
      "Quarterfinals    1232\n",
      "Semifinals        616\n",
      "The Final         308\n",
      "4th Round         113\n",
      "Name: count, dtype: int64\n"
     ]
    }
   ],
   "source": [
    "#ATP250\n",
    "atp250 = df_filtered2[df_filtered2['Series'] == 'ATP250']\n",
    "rondas_atp250 = atp250['Round'].unique()\n",
    "print(rondas_atp250)\n",
    "rondas_conteo = atp250['Round'].value_counts()\n",
    "print(rondas_conteo)"
   ]
  },
  {
   "cell_type": "code",
   "execution_count": 165,
   "metadata": {},
   "outputs": [
    {
     "name": "stdout",
     "output_type": "stream",
     "text": [
      "['2nd Round' '3rd Round' 'Quarterfinals' 'Semifinals' 'The Final'\n",
      " '4th Round']\n",
      "Round\n",
      "2nd Round        1452\n",
      "3rd Round         888\n",
      "Quarterfinals     356\n",
      "Semifinals        178\n",
      "4th Round         176\n",
      "The Final          89\n",
      "Name: count, dtype: int64\n"
     ]
    }
   ],
   "source": [
    "#ATP500\n",
    "atp500 = df_filtered2[df_filtered2['Series'] == 'ATP500']\n",
    "rondas_atp500 = atp500['Round'].unique()\n",
    "print(rondas_atp500)\n",
    "rondas_conteo = atp500['Round'].value_counts()\n",
    "print(rondas_conteo)"
   ]
  },
  {
   "cell_type": "markdown",
   "metadata": {},
   "source": [
    "Ahora para poder matchear estas dos bases de datos, realizaré dos nuevas columnas en el dataset original que serán \"Winner Result\" y \"Loser Result\", donde en la columna \"Winner Result\" tendrá dos resultados, el primero \"Champion\" si ganó la final y \"Next Round\" si ganó cualquier otro partido que no fue la final. \n",
    "\"Loser Result\" será \"Runner Up\" si perdió la final, \"Semifinal\" si perdió la semifinal y así sucesivamente."
   ]
  },
  {
   "cell_type": "code",
   "execution_count": 166,
   "metadata": {},
   "outputs": [
    {
     "name": "stderr",
     "output_type": "stream",
     "text": [
      "C:\\Users\\Nico\\AppData\\Local\\Temp\\ipykernel_20092\\129701108.py:2: SettingWithCopyWarning: \n",
      "A value is trying to be set on a copy of a slice from a DataFrame.\n",
      "Try using .loc[row_indexer,col_indexer] = value instead\n",
      "\n",
      "See the caveats in the documentation: https://pandas.pydata.org/pandas-docs/stable/user_guide/indexing.html#returning-a-view-versus-a-copy\n",
      "  df_filtered2['WinnerResult'] = df_filtered2['Round'].apply(lambda x: 'Champion' if x == 'The Final' else 'Next Round')\n",
      "C:\\Users\\Nico\\AppData\\Local\\Temp\\ipykernel_20092\\129701108.py:16: SettingWithCopyWarning: \n",
      "A value is trying to be set on a copy of a slice from a DataFrame.\n",
      "Try using .loc[row_indexer,col_indexer] = value instead\n",
      "\n",
      "See the caveats in the documentation: https://pandas.pydata.org/pandas-docs/stable/user_guide/indexing.html#returning-a-view-versus-a-copy\n",
      "  df_filtered2['LoserResult'] = df_filtered2['Round'].map(round_mapping)\n"
     ]
    }
   ],
   "source": [
    "# Crear nueva columna para el resultado del ganador\n",
    "df_filtered2['WinnerResult'] = df_filtered2['Round'].apply(lambda x: 'Champion' if x == 'The Final' else 'Next Round')\n",
    "\n",
    "# Diccionario para mapear el resultado del perdedor según la ronda en que perdió\n",
    "round_mapping = {\n",
    "    'The Final': 'Runner-Up',\n",
    "    'Semifinals': 'Semifinals',\n",
    "    'Quarterfinals': 'Quarterfinals',\n",
    "    '4th Round': '4th Round',\n",
    "    '3rd Round': '3rd Round',\n",
    "    '2nd Round': '2nd Round',\n",
    "    '1st Round': '1st Round',\n",
    "}\n",
    "\n",
    "# Crear nueva columna para el resultado del perdedor\n",
    "df_filtered2['LoserResult'] = df_filtered2['Round'].map(round_mapping)"
   ]
  },
  {
   "cell_type": "code",
   "execution_count": 167,
   "metadata": {},
   "outputs": [
    {
     "name": "stdout",
     "output_type": "stream",
     "text": [
      "          Winner           Loser      Round WinnerResult LoserResult\n",
      "155    Agassi A.       Puerta M.  1st Round   Next Round   1st Round\n",
      "156     Alami K.        Manta L.  1st Round   Next Round   1st Round\n",
      "157     Arazi H.       Alonso J.  1st Round   Next Round   1st Round\n",
      "158   Behrend T.     Meligeni F.  1st Round   Next Round   1st Round\n",
      "159  Bjorkman J.  Stoltenberg J.  1st Round   Next Round   1st Round\n",
      "160     Black W.    Gambill J.M.  1st Round   Next Round   1st Round\n",
      "161    Clavet F.       Hrbaty D.  1st Round   Next Round   1st Round\n",
      "162   Clement A.   van Lottum J.  1st Round   Next Round   1st Round\n",
      "163  Corretja A.     Sargsian S.  1st Round   Next Round   1st Round\n",
      "164   Dosedel S.      Boutter J.  1st Round   Next Round   1st Round\n"
     ]
    }
   ],
   "source": [
    "# Vemos el DataFrame resultante\n",
    "print(df_filtered2[['Winner', 'Loser', 'Round', 'WinnerResult', 'LoserResult']].head(10))"
   ]
  },
  {
   "cell_type": "code",
   "execution_count": 168,
   "metadata": {},
   "outputs": [
    {
     "name": "stdout",
     "output_type": "stream",
     "text": [
      "     ATP   Location       Tournament       Date      Series    Court Surface  \\\n",
      "155    6  Melbourne  Australian Open 2000-01-17  Grand Slam  Outdoor    Hard   \n",
      "156    6  Melbourne  Australian Open 2000-01-17  Grand Slam  Outdoor    Hard   \n",
      "157    6  Melbourne  Australian Open 2000-01-17  Grand Slam  Outdoor    Hard   \n",
      "158    6  Melbourne  Australian Open 2000-01-17  Grand Slam  Outdoor    Hard   \n",
      "159    6  Melbourne  Australian Open 2000-01-17  Grand Slam  Outdoor    Hard   \n",
      "160    6  Melbourne  Australian Open 2000-01-17  Grand Slam  Outdoor    Hard   \n",
      "161    6  Melbourne  Australian Open 2000-01-17  Grand Slam  Outdoor    Hard   \n",
      "162    6  Melbourne  Australian Open 2000-01-17  Grand Slam  Outdoor    Hard   \n",
      "163    6  Melbourne  Australian Open 2000-01-17  Grand Slam  Outdoor    Hard   \n",
      "164    6  Melbourne  Australian Open 2000-01-17  Grand Slam  Outdoor    Hard   \n",
      "\n",
      "         Round  Best of       Winner  ... L5  Wsets  Lsets    Comment  WPts  \\\n",
      "155  1st Round        5    Agassi A.  ...  0      3      0  Completed     0   \n",
      "156  1st Round        5     Alami K.  ...  0      3      0  Completed     0   \n",
      "157  1st Round        5     Arazi H.  ...  0      3      0  Completed     0   \n",
      "158  1st Round        5   Behrend T.  ...  0      3      2  Completed     0   \n",
      "159  1st Round        5  Bjorkman J.  ...  4      3      2  Completed     0   \n",
      "160  1st Round        5     Black W.  ...  0      3      0  Completed     0   \n",
      "161  1st Round        5    Clavet F.  ...  0      3      1  Completed     0   \n",
      "162  1st Round        5   Clement A.  ...  0      2      0    Retired     0   \n",
      "163  1st Round        5  Corretja A.  ...  0      3      0  Completed     0   \n",
      "164  1st Round        5   Dosedel S.  ...  0      3      1  Completed     0   \n",
      "\n",
      "     LPts  Year              TorneoID  WinnerResult  LoserResult  \n",
      "155     0  2000  Australian Open_2000    Next Round    1st Round  \n",
      "156     0  2000  Australian Open_2000    Next Round    1st Round  \n",
      "157     0  2000  Australian Open_2000    Next Round    1st Round  \n",
      "158     0  2000  Australian Open_2000    Next Round    1st Round  \n",
      "159     0  2000  Australian Open_2000    Next Round    1st Round  \n",
      "160     0  2000  Australian Open_2000    Next Round    1st Round  \n",
      "161     0  2000  Australian Open_2000    Next Round    1st Round  \n",
      "162     0  2000  Australian Open_2000    Next Round    1st Round  \n",
      "163     0  2000  Australian Open_2000    Next Round    1st Round  \n",
      "164     0  2000  Australian Open_2000    Next Round    1st Round  \n",
      "\n",
      "[10 rows x 32 columns]\n"
     ]
    }
   ],
   "source": [
    "print(df_filtered2.head(10))\n",
    "df_filtered3 = df_filtered2"
   ]
  },
  {
   "cell_type": "code",
   "execution_count": 169,
   "metadata": {},
   "outputs": [
    {
     "name": "stderr",
     "output_type": "stream",
     "text": [
      "C:\\Users\\Nico\\AppData\\Local\\Temp\\ipykernel_20092\\3489068626.py:7: SettingWithCopyWarning: \n",
      "A value is trying to be set on a copy of a slice from a DataFrame.\n",
      "Try using .loc[row_indexer,col_indexer] = value instead\n",
      "\n",
      "See the caveats in the documentation: https://pandas.pydata.org/pandas-docs/stable/user_guide/indexing.html#returning-a-view-versus-a-copy\n",
      "  df_filtered3['WinnerKey'] = df_filtered3['Series'] + '_' + df_filtered3['WinnerResult']\n",
      "C:\\Users\\Nico\\AppData\\Local\\Temp\\ipykernel_20092\\3489068626.py:10: SettingWithCopyWarning: \n",
      "A value is trying to be set on a copy of a slice from a DataFrame.\n",
      "Try using .loc[row_indexer,col_indexer] = value instead\n",
      "\n",
      "See the caveats in the documentation: https://pandas.pydata.org/pandas-docs/stable/user_guide/indexing.html#returning-a-view-versus-a-copy\n",
      "  df_filtered3['LoserKey'] = df_filtered3['Series'] + '_' + df_filtered3['LoserResult']\n",
      "C:\\Users\\Nico\\AppData\\Local\\Temp\\ipykernel_20092\\3489068626.py:13: SettingWithCopyWarning: \n",
      "A value is trying to be set on a copy of a slice from a DataFrame.\n",
      "Try using .loc[row_indexer,col_indexer] = value instead\n",
      "\n",
      "See the caveats in the documentation: https://pandas.pydata.org/pandas-docs/stable/user_guide/indexing.html#returning-a-view-versus-a-copy\n",
      "  df_filtered3['Winner_ExpectedPoints'] = df_filtered3['WinnerKey'].map(points_dict)\n",
      "C:\\Users\\Nico\\AppData\\Local\\Temp\\ipykernel_20092\\3489068626.py:16: SettingWithCopyWarning: \n",
      "A value is trying to be set on a copy of a slice from a DataFrame.\n",
      "Try using .loc[row_indexer,col_indexer] = value instead\n",
      "\n",
      "See the caveats in the documentation: https://pandas.pydata.org/pandas-docs/stable/user_guide/indexing.html#returning-a-view-versus-a-copy\n",
      "  df_filtered3['Loser_ExpectedPoints'] = df_filtered3['LoserKey'].map(points_dict)\n"
     ]
    }
   ],
   "source": [
    "#Ahora asignaremos los puntos obtenidos por cada jugador según la ronda a la que llegaron\n",
    "\n",
    "# Creamos el diccionario de puntos a partir del DataFrame points_df\n",
    "points_dict = dict(zip(points_df['key'], points_df['Points']))\n",
    "\n",
    "# Crear la columna 'key' para el ganador\n",
    "df_filtered3['WinnerKey'] = df_filtered3['Series'] + '_' + df_filtered3['WinnerResult']\n",
    "\n",
    "# Crear la columna 'key' para el perdedor\n",
    "df_filtered3['LoserKey'] = df_filtered3['Series'] + '_' + df_filtered3['LoserResult']\n",
    "\n",
    "# Asignar puntos al ganador\n",
    "df_filtered3['Winner_ExpectedPoints'] = df_filtered3['WinnerKey'].map(points_dict)\n",
    "\n",
    "# Asignar puntos al perdedor\n",
    "df_filtered3['Loser_ExpectedPoints'] = df_filtered3['LoserKey'].map(points_dict)"
   ]
  },
  {
   "cell_type": "code",
   "execution_count": 170,
   "metadata": {},
   "outputs": [
    {
     "name": "stdout",
     "output_type": "stream",
     "text": [
      "155       10\n",
      "156       10\n",
      "157       10\n",
      "158       10\n",
      "159       10\n",
      "        ... \n",
      "46647     50\n",
      "46648     50\n",
      "46649    100\n",
      "46650    100\n",
      "46651    165\n",
      "Name: Loser_ExpectedPoints, Length: 25074, dtype: int64\n"
     ]
    }
   ],
   "source": [
    "# Vemos las nuevas columnas\n",
    "print(df_filtered3['Loser_ExpectedPoints'])"
   ]
  },
  {
   "cell_type": "code",
   "execution_count": 171,
   "metadata": {},
   "outputs": [
    {
     "name": "stdout",
     "output_type": "stream",
     "text": [
      "155        0\n",
      "156        0\n",
      "157        0\n",
      "158        0\n",
      "159        0\n",
      "        ... \n",
      "46647      0\n",
      "46648      0\n",
      "46649      0\n",
      "46650      0\n",
      "46651    250\n",
      "Name: Winner_ExpectedPoints, Length: 25074, dtype: int64\n"
     ]
    },
    {
     "name": "stderr",
     "output_type": "stream",
     "text": [
      "C:\\Users\\Nico\\AppData\\Local\\Temp\\ipykernel_20092\\1397775018.py:2: FutureWarning: A value is trying to be set on a copy of a DataFrame or Series through chained assignment using an inplace method.\n",
      "The behavior will change in pandas 3.0. This inplace method will never work because the intermediate object on which we are setting values always behaves as a copy.\n",
      "\n",
      "For example, when doing 'df[col].method(value, inplace=True)', try using 'df.method({col: value}, inplace=True)' or df[col] = df[col].method(value) instead, to perform the operation inplace on the original object.\n",
      "\n",
      "\n",
      "  df_filtered3['Winner_ExpectedPoints'].fillna(0, inplace=True)\n",
      "C:\\Users\\Nico\\AppData\\Local\\Temp\\ipykernel_20092\\1397775018.py:2: SettingWithCopyWarning: \n",
      "A value is trying to be set on a copy of a slice from a DataFrame\n",
      "\n",
      "See the caveats in the documentation: https://pandas.pydata.org/pandas-docs/stable/user_guide/indexing.html#returning-a-view-versus-a-copy\n",
      "  df_filtered3['Winner_ExpectedPoints'].fillna(0, inplace=True)\n",
      "C:\\Users\\Nico\\AppData\\Local\\Temp\\ipykernel_20092\\1397775018.py:4: SettingWithCopyWarning: \n",
      "A value is trying to be set on a copy of a slice from a DataFrame.\n",
      "Try using .loc[row_indexer,col_indexer] = value instead\n",
      "\n",
      "See the caveats in the documentation: https://pandas.pydata.org/pandas-docs/stable/user_guide/indexing.html#returning-a-view-versus-a-copy\n",
      "  df_filtered3['Winner_ExpectedPoints'] = df_filtered3['Winner_ExpectedPoints'].astype(int)\n"
     ]
    }
   ],
   "source": [
    "#Cambiamos los NaN por 0 en la columna Winner_ExpectedPoints\n",
    "df_filtered3['Winner_ExpectedPoints'].fillna(0, inplace=True)\n",
    "# Convertimos la columna Winner_ExpectedPoints a int\n",
    "df_filtered3['Winner_ExpectedPoints'] = df_filtered3['Winner_ExpectedPoints'].astype(int)\n",
    "print(df_filtered3['Winner_ExpectedPoints'])"
   ]
  },
  {
   "cell_type": "markdown",
   "metadata": {},
   "source": [
    "Realizando gráficos me di cuenta que en la columna Surface hay unos partidos jugados en Carpet, que es una superficie dura, por lo que cambiaremos todos estos partidos a superficie \"Hard\""
   ]
  },
  {
   "cell_type": "code",
   "execution_count": 172,
   "metadata": {},
   "outputs": [
    {
     "name": "stderr",
     "output_type": "stream",
     "text": [
      "C:\\Users\\Nico\\AppData\\Local\\Temp\\ipykernel_20092\\3900511526.py:1: SettingWithCopyWarning: \n",
      "A value is trying to be set on a copy of a slice from a DataFrame.\n",
      "Try using .loc[row_indexer,col_indexer] = value instead\n",
      "\n",
      "See the caveats in the documentation: https://pandas.pydata.org/pandas-docs/stable/user_guide/indexing.html#returning-a-view-versus-a-copy\n",
      "  df_filtered3['Surface'] = df_filtered3['Surface'].replace('Carpet', 'Hard')\n"
     ]
    },
    {
     "data": {
      "text/plain": [
       "Surface\n",
       "Hard     13664\n",
       "Clay      7821\n",
       "Grass     3589\n",
       "Name: count, dtype: int64"
      ]
     },
     "execution_count": 172,
     "metadata": {},
     "output_type": "execute_result"
    }
   ],
   "source": [
    "df_filtered3['Surface'] = df_filtered3['Surface'].replace('Carpet', 'Hard')\n",
    "df_filtered3['Surface'].value_counts()"
   ]
  },
  {
   "cell_type": "code",
   "execution_count": 173,
   "metadata": {},
   "outputs": [],
   "source": [
    "df_filtered3.to_csv(\"Data_Final_ATP.csv\", index=False)"
   ]
  },
  {
   "cell_type": "markdown",
   "metadata": {},
   "source": [
    "Agregamos una base de datos con información sobre los jugadores."
   ]
  },
  {
   "cell_type": "code",
   "execution_count": 174,
   "metadata": {},
   "outputs": [
    {
     "data": {
      "text/html": [
       "<div>\n",
       "<style scoped>\n",
       "    .dataframe tbody tr th:only-of-type {\n",
       "        vertical-align: middle;\n",
       "    }\n",
       "\n",
       "    .dataframe tbody tr th {\n",
       "        vertical-align: top;\n",
       "    }\n",
       "\n",
       "    .dataframe thead th {\n",
       "        text-align: right;\n",
       "    }\n",
       "</style>\n",
       "<table border=\"1\" class=\"dataframe\">\n",
       "  <thead>\n",
       "    <tr style=\"text-align: right;\">\n",
       "      <th></th>\n",
       "      <th>player_id</th>\n",
       "      <th>player_slug</th>\n",
       "      <th>first_name</th>\n",
       "      <th>last_name</th>\n",
       "      <th>player_url</th>\n",
       "      <th>flag_code</th>\n",
       "      <th>residence</th>\n",
       "      <th>birthplace</th>\n",
       "      <th>birthdate</th>\n",
       "      <th>birth_year</th>\n",
       "      <th>birth_month</th>\n",
       "      <th>birth_day</th>\n",
       "      <th>turned_pro</th>\n",
       "      <th>weight_lbs</th>\n",
       "      <th>weight_kg</th>\n",
       "      <th>height_ft</th>\n",
       "      <th>height_inches</th>\n",
       "      <th>height_cm</th>\n",
       "      <th>handedness</th>\n",
       "      <th>backhand</th>\n",
       "    </tr>\n",
       "  </thead>\n",
       "  <tbody>\n",
       "    <tr>\n",
       "      <th>0</th>\n",
       "      <td>a002</td>\n",
       "      <td>ricardo-acuna</td>\n",
       "      <td>Ricardo</td>\n",
       "      <td>Acuna</td>\n",
       "      <td>http://www.atpworldtour.com/en/players/ricardo...</td>\n",
       "      <td>CHI</td>\n",
       "      <td>Jupiter, FL, USA</td>\n",
       "      <td>Santiago, Chile</td>\n",
       "      <td>1958.01.13</td>\n",
       "      <td>1958.0</td>\n",
       "      <td>1.0</td>\n",
       "      <td>13.0</td>\n",
       "      <td>0.0</td>\n",
       "      <td>150.0</td>\n",
       "      <td>68.0</td>\n",
       "      <td>5'9\"</td>\n",
       "      <td>69.0</td>\n",
       "      <td>175.0</td>\n",
       "      <td>NaN</td>\n",
       "      <td>NaN</td>\n",
       "    </tr>\n",
       "    <tr>\n",
       "      <th>1</th>\n",
       "      <td>a001</td>\n",
       "      <td>sadiq-abdullahi</td>\n",
       "      <td>Sadiq</td>\n",
       "      <td>Abdullahi</td>\n",
       "      <td>http://www.atpworldtour.com/en/players/sadiq-a...</td>\n",
       "      <td>NGR</td>\n",
       "      <td>NaN</td>\n",
       "      <td>NaN</td>\n",
       "      <td>1960.02.02</td>\n",
       "      <td>1960.0</td>\n",
       "      <td>2.0</td>\n",
       "      <td>2.0</td>\n",
       "      <td>0.0</td>\n",
       "      <td>0.0</td>\n",
       "      <td>0.0</td>\n",
       "      <td>0'0\"</td>\n",
       "      <td>0.0</td>\n",
       "      <td>0.0</td>\n",
       "      <td>NaN</td>\n",
       "      <td>NaN</td>\n",
       "    </tr>\n",
       "    <tr>\n",
       "      <th>2</th>\n",
       "      <td>a005</td>\n",
       "      <td>nelson-aerts</td>\n",
       "      <td>Nelson</td>\n",
       "      <td>Aerts</td>\n",
       "      <td>http://www.atpworldtour.com/en/players/nelson-...</td>\n",
       "      <td>BRA</td>\n",
       "      <td>NaN</td>\n",
       "      <td>Cachoeira Do Sul, Brazil</td>\n",
       "      <td>1963.04.25</td>\n",
       "      <td>1963.0</td>\n",
       "      <td>4.0</td>\n",
       "      <td>25.0</td>\n",
       "      <td>0.0</td>\n",
       "      <td>165.0</td>\n",
       "      <td>75.0</td>\n",
       "      <td>6'2\"</td>\n",
       "      <td>74.0</td>\n",
       "      <td>188.0</td>\n",
       "      <td>NaN</td>\n",
       "      <td>NaN</td>\n",
       "    </tr>\n",
       "    <tr>\n",
       "      <th>3</th>\n",
       "      <td>a004</td>\n",
       "      <td>egan-adams</td>\n",
       "      <td>Egan</td>\n",
       "      <td>Adams</td>\n",
       "      <td>http://www.atpworldtour.com/en/players/egan-ad...</td>\n",
       "      <td>USA</td>\n",
       "      <td>Palmetto, FL, USA</td>\n",
       "      <td>Miami Beach, FL, USA</td>\n",
       "      <td>1959.06.15</td>\n",
       "      <td>1959.0</td>\n",
       "      <td>6.0</td>\n",
       "      <td>15.0</td>\n",
       "      <td>0.0</td>\n",
       "      <td>160.0</td>\n",
       "      <td>73.0</td>\n",
       "      <td>5'10\"</td>\n",
       "      <td>70.0</td>\n",
       "      <td>178.0</td>\n",
       "      <td>NaN</td>\n",
       "      <td>NaN</td>\n",
       "    </tr>\n",
       "    <tr>\n",
       "      <th>4</th>\n",
       "      <td>a006</td>\n",
       "      <td>ronald-agenor</td>\n",
       "      <td>Ronald</td>\n",
       "      <td>Agenor</td>\n",
       "      <td>http://www.atpworldtour.com/en/players/ronald-...</td>\n",
       "      <td>USA</td>\n",
       "      <td>Beverly Hills, California, USA</td>\n",
       "      <td>Rabat, Morocco</td>\n",
       "      <td>1964.11.13</td>\n",
       "      <td>1964.0</td>\n",
       "      <td>11.0</td>\n",
       "      <td>13.0</td>\n",
       "      <td>1983.0</td>\n",
       "      <td>180.0</td>\n",
       "      <td>82.0</td>\n",
       "      <td>5'11\"</td>\n",
       "      <td>71.0</td>\n",
       "      <td>180.0</td>\n",
       "      <td>NaN</td>\n",
       "      <td>NaN</td>\n",
       "    </tr>\n",
       "  </tbody>\n",
       "</table>\n",
       "</div>"
      ],
      "text/plain": [
       "  player_id      player_slug first_name  last_name  \\\n",
       "0      a002    ricardo-acuna    Ricardo      Acuna   \n",
       "1      a001  sadiq-abdullahi      Sadiq  Abdullahi   \n",
       "2      a005     nelson-aerts     Nelson      Aerts   \n",
       "3      a004       egan-adams       Egan      Adams   \n",
       "4      a006    ronald-agenor     Ronald     Agenor   \n",
       "\n",
       "                                          player_url flag_code  \\\n",
       "0  http://www.atpworldtour.com/en/players/ricardo...       CHI   \n",
       "1  http://www.atpworldtour.com/en/players/sadiq-a...       NGR   \n",
       "2  http://www.atpworldtour.com/en/players/nelson-...       BRA   \n",
       "3  http://www.atpworldtour.com/en/players/egan-ad...       USA   \n",
       "4  http://www.atpworldtour.com/en/players/ronald-...       USA   \n",
       "\n",
       "                        residence                birthplace   birthdate  \\\n",
       "0                Jupiter, FL, USA           Santiago, Chile  1958.01.13   \n",
       "1                             NaN                       NaN  1960.02.02   \n",
       "2                             NaN  Cachoeira Do Sul, Brazil  1963.04.25   \n",
       "3               Palmetto, FL, USA      Miami Beach, FL, USA  1959.06.15   \n",
       "4  Beverly Hills, California, USA            Rabat, Morocco  1964.11.13   \n",
       "\n",
       "   birth_year  birth_month  birth_day  turned_pro  weight_lbs  weight_kg  \\\n",
       "0      1958.0          1.0       13.0         0.0       150.0       68.0   \n",
       "1      1960.0          2.0        2.0         0.0         0.0        0.0   \n",
       "2      1963.0          4.0       25.0         0.0       165.0       75.0   \n",
       "3      1959.0          6.0       15.0         0.0       160.0       73.0   \n",
       "4      1964.0         11.0       13.0      1983.0       180.0       82.0   \n",
       "\n",
       "  height_ft  height_inches  height_cm handedness backhand  \n",
       "0      5'9\"           69.0      175.0        NaN      NaN  \n",
       "1      0'0\"            0.0        0.0        NaN      NaN  \n",
       "2      6'2\"           74.0      188.0        NaN      NaN  \n",
       "3     5'10\"           70.0      178.0        NaN      NaN  \n",
       "4     5'11\"           71.0      180.0        NaN      NaN  "
      ]
     },
     "execution_count": 174,
     "metadata": {},
     "output_type": "execute_result"
    }
   ],
   "source": [
    "df_players = pd.read_csv('player_overviews.csv', header=None)\n",
    "\n",
    "df_players.columns = ['player_id', 'player_slug', 'first_name', 'last_name', 'player_url', 'flag_code', 'residence', 'birthplace', 'birthdate', 'birth_year', 'birth_month', 'birth_day', 'turned_pro', 'weight_lbs', 'weight_kg', 'height_ft', 'height_inches', 'height_cm', 'handedness', 'backhand']\n",
    "\n",
    "df_players.head()"
   ]
  },
  {
   "cell_type": "code",
   "execution_count": 175,
   "metadata": {},
   "outputs": [
    {
     "data": {
      "text/html": [
       "<div>\n",
       "<style scoped>\n",
       "    .dataframe tbody tr th:only-of-type {\n",
       "        vertical-align: middle;\n",
       "    }\n",
       "\n",
       "    .dataframe tbody tr th {\n",
       "        vertical-align: top;\n",
       "    }\n",
       "\n",
       "    .dataframe thead th {\n",
       "        text-align: right;\n",
       "    }\n",
       "</style>\n",
       "<table border=\"1\" class=\"dataframe\">\n",
       "  <thead>\n",
       "    <tr style=\"text-align: right;\">\n",
       "      <th></th>\n",
       "      <th>player_id</th>\n",
       "      <th>player_slug</th>\n",
       "      <th>first_name</th>\n",
       "      <th>last_name</th>\n",
       "      <th>player_url</th>\n",
       "      <th>flag_code</th>\n",
       "      <th>residence</th>\n",
       "      <th>birthplace</th>\n",
       "      <th>birthdate</th>\n",
       "      <th>birth_year</th>\n",
       "      <th>...</th>\n",
       "      <th>birth_day</th>\n",
       "      <th>turned_pro</th>\n",
       "      <th>weight_lbs</th>\n",
       "      <th>weight_kg</th>\n",
       "      <th>height_ft</th>\n",
       "      <th>height_inches</th>\n",
       "      <th>height_cm</th>\n",
       "      <th>handedness</th>\n",
       "      <th>backhand</th>\n",
       "      <th>displayname</th>\n",
       "    </tr>\n",
       "  </thead>\n",
       "  <tbody>\n",
       "    <tr>\n",
       "      <th>0</th>\n",
       "      <td>a002</td>\n",
       "      <td>ricardo-acuna</td>\n",
       "      <td>Ricardo</td>\n",
       "      <td>Acuna</td>\n",
       "      <td>http://www.atpworldtour.com/en/players/ricardo...</td>\n",
       "      <td>CHI</td>\n",
       "      <td>Jupiter, FL, USA</td>\n",
       "      <td>Santiago, Chile</td>\n",
       "      <td>1958.01.13</td>\n",
       "      <td>1958.0</td>\n",
       "      <td>...</td>\n",
       "      <td>13.0</td>\n",
       "      <td>0.0</td>\n",
       "      <td>150.0</td>\n",
       "      <td>68.0</td>\n",
       "      <td>5'9\"</td>\n",
       "      <td>69.0</td>\n",
       "      <td>175.0</td>\n",
       "      <td>NaN</td>\n",
       "      <td>NaN</td>\n",
       "      <td>Acuna R.</td>\n",
       "    </tr>\n",
       "    <tr>\n",
       "      <th>1</th>\n",
       "      <td>a001</td>\n",
       "      <td>sadiq-abdullahi</td>\n",
       "      <td>Sadiq</td>\n",
       "      <td>Abdullahi</td>\n",
       "      <td>http://www.atpworldtour.com/en/players/sadiq-a...</td>\n",
       "      <td>NGR</td>\n",
       "      <td>NaN</td>\n",
       "      <td>NaN</td>\n",
       "      <td>1960.02.02</td>\n",
       "      <td>1960.0</td>\n",
       "      <td>...</td>\n",
       "      <td>2.0</td>\n",
       "      <td>0.0</td>\n",
       "      <td>0.0</td>\n",
       "      <td>0.0</td>\n",
       "      <td>0'0\"</td>\n",
       "      <td>0.0</td>\n",
       "      <td>0.0</td>\n",
       "      <td>NaN</td>\n",
       "      <td>NaN</td>\n",
       "      <td>Abdullahi S.</td>\n",
       "    </tr>\n",
       "    <tr>\n",
       "      <th>2</th>\n",
       "      <td>a005</td>\n",
       "      <td>nelson-aerts</td>\n",
       "      <td>Nelson</td>\n",
       "      <td>Aerts</td>\n",
       "      <td>http://www.atpworldtour.com/en/players/nelson-...</td>\n",
       "      <td>BRA</td>\n",
       "      <td>NaN</td>\n",
       "      <td>Cachoeira Do Sul, Brazil</td>\n",
       "      <td>1963.04.25</td>\n",
       "      <td>1963.0</td>\n",
       "      <td>...</td>\n",
       "      <td>25.0</td>\n",
       "      <td>0.0</td>\n",
       "      <td>165.0</td>\n",
       "      <td>75.0</td>\n",
       "      <td>6'2\"</td>\n",
       "      <td>74.0</td>\n",
       "      <td>188.0</td>\n",
       "      <td>NaN</td>\n",
       "      <td>NaN</td>\n",
       "      <td>Aerts N.</td>\n",
       "    </tr>\n",
       "    <tr>\n",
       "      <th>3</th>\n",
       "      <td>a004</td>\n",
       "      <td>egan-adams</td>\n",
       "      <td>Egan</td>\n",
       "      <td>Adams</td>\n",
       "      <td>http://www.atpworldtour.com/en/players/egan-ad...</td>\n",
       "      <td>USA</td>\n",
       "      <td>Palmetto, FL, USA</td>\n",
       "      <td>Miami Beach, FL, USA</td>\n",
       "      <td>1959.06.15</td>\n",
       "      <td>1959.0</td>\n",
       "      <td>...</td>\n",
       "      <td>15.0</td>\n",
       "      <td>0.0</td>\n",
       "      <td>160.0</td>\n",
       "      <td>73.0</td>\n",
       "      <td>5'10\"</td>\n",
       "      <td>70.0</td>\n",
       "      <td>178.0</td>\n",
       "      <td>NaN</td>\n",
       "      <td>NaN</td>\n",
       "      <td>Adams E.</td>\n",
       "    </tr>\n",
       "    <tr>\n",
       "      <th>4</th>\n",
       "      <td>a006</td>\n",
       "      <td>ronald-agenor</td>\n",
       "      <td>Ronald</td>\n",
       "      <td>Agenor</td>\n",
       "      <td>http://www.atpworldtour.com/en/players/ronald-...</td>\n",
       "      <td>USA</td>\n",
       "      <td>Beverly Hills, California, USA</td>\n",
       "      <td>Rabat, Morocco</td>\n",
       "      <td>1964.11.13</td>\n",
       "      <td>1964.0</td>\n",
       "      <td>...</td>\n",
       "      <td>13.0</td>\n",
       "      <td>1983.0</td>\n",
       "      <td>180.0</td>\n",
       "      <td>82.0</td>\n",
       "      <td>5'11\"</td>\n",
       "      <td>71.0</td>\n",
       "      <td>180.0</td>\n",
       "      <td>NaN</td>\n",
       "      <td>NaN</td>\n",
       "      <td>Agenor R.</td>\n",
       "    </tr>\n",
       "  </tbody>\n",
       "</table>\n",
       "<p>5 rows × 21 columns</p>\n",
       "</div>"
      ],
      "text/plain": [
       "  player_id      player_slug first_name  last_name  \\\n",
       "0      a002    ricardo-acuna    Ricardo      Acuna   \n",
       "1      a001  sadiq-abdullahi      Sadiq  Abdullahi   \n",
       "2      a005     nelson-aerts     Nelson      Aerts   \n",
       "3      a004       egan-adams       Egan      Adams   \n",
       "4      a006    ronald-agenor     Ronald     Agenor   \n",
       "\n",
       "                                          player_url flag_code  \\\n",
       "0  http://www.atpworldtour.com/en/players/ricardo...       CHI   \n",
       "1  http://www.atpworldtour.com/en/players/sadiq-a...       NGR   \n",
       "2  http://www.atpworldtour.com/en/players/nelson-...       BRA   \n",
       "3  http://www.atpworldtour.com/en/players/egan-ad...       USA   \n",
       "4  http://www.atpworldtour.com/en/players/ronald-...       USA   \n",
       "\n",
       "                        residence                birthplace   birthdate  \\\n",
       "0                Jupiter, FL, USA           Santiago, Chile  1958.01.13   \n",
       "1                             NaN                       NaN  1960.02.02   \n",
       "2                             NaN  Cachoeira Do Sul, Brazil  1963.04.25   \n",
       "3               Palmetto, FL, USA      Miami Beach, FL, USA  1959.06.15   \n",
       "4  Beverly Hills, California, USA            Rabat, Morocco  1964.11.13   \n",
       "\n",
       "   birth_year  ...  birth_day  turned_pro  weight_lbs  weight_kg  height_ft  \\\n",
       "0      1958.0  ...       13.0         0.0       150.0       68.0       5'9\"   \n",
       "1      1960.0  ...        2.0         0.0         0.0        0.0       0'0\"   \n",
       "2      1963.0  ...       25.0         0.0       165.0       75.0       6'2\"   \n",
       "3      1959.0  ...       15.0         0.0       160.0       73.0      5'10\"   \n",
       "4      1964.0  ...       13.0      1983.0       180.0       82.0      5'11\"   \n",
       "\n",
       "  height_inches  height_cm  handedness backhand   displayname  \n",
       "0          69.0      175.0         NaN      NaN      Acuna R.  \n",
       "1           0.0        0.0         NaN      NaN  Abdullahi S.  \n",
       "2          74.0      188.0         NaN      NaN      Aerts N.  \n",
       "3          70.0      178.0         NaN      NaN      Adams E.  \n",
       "4          71.0      180.0         NaN      NaN     Agenor R.  \n",
       "\n",
       "[5 rows x 21 columns]"
      ]
     },
     "execution_count": 175,
     "metadata": {},
     "output_type": "execute_result"
    }
   ],
   "source": [
    "#Creamos una nueva columna, para que los nombres de los jugadores tengan el formato del dataset original es decir Apellido N.\n",
    "\n",
    "df_players['displayname'] = df_players['last_name'].str.title() + ' ' + df_players['first_name'].str[0].str.upper() + '.'\n",
    "df_players.head()"
   ]
  },
  {
   "cell_type": "code",
   "execution_count": 176,
   "metadata": {},
   "outputs": [],
   "source": [
    "df_players = df_players[df_players['displayname'] != 'Unknown U.']\n",
    "df_players = df_players[\n",
    "    (df_players['displayname'].notna()) & \n",
    "    (df_players['displayname'] != '') & \n",
    "    (df_players['displayname'] != 'Unknown U.')\n",
    "]"
   ]
  },
  {
   "cell_type": "code",
   "execution_count": 181,
   "metadata": {},
   "outputs": [],
   "source": [
    "df_players = df_players.drop_duplicates(subset=['displayname'])\n",
    "\n",
    "df_players = df_players[df_players['flag_code'].notna()]"
   ]
  },
  {
   "cell_type": "code",
   "execution_count": 182,
   "metadata": {},
   "outputs": [],
   "source": [
    "#Guardamos el dataset\n",
    "\n",
    "df_players.to_csv(\"info_winners.csv\", index=False)"
   ]
  },
  {
   "cell_type": "code",
   "execution_count": 179,
   "metadata": {},
   "outputs": [
    {
     "data": {
      "text/html": [
       "<div>\n",
       "<style scoped>\n",
       "    .dataframe tbody tr th:only-of-type {\n",
       "        vertical-align: middle;\n",
       "    }\n",
       "\n",
       "    .dataframe tbody tr th {\n",
       "        vertical-align: top;\n",
       "    }\n",
       "\n",
       "    .dataframe thead th {\n",
       "        text-align: right;\n",
       "    }\n",
       "</style>\n",
       "<table border=\"1\" class=\"dataframe\">\n",
       "  <thead>\n",
       "    <tr style=\"text-align: right;\">\n",
       "      <th></th>\n",
       "      <th>Finalista</th>\n",
       "      <th>Series</th>\n",
       "      <th>Tournament</th>\n",
       "      <th>Year</th>\n",
       "      <th>WRank</th>\n",
       "      <th>Surface</th>\n",
       "      <th>LRank</th>\n",
       "      <th>Tournament_Year</th>\n",
       "    </tr>\n",
       "  </thead>\n",
       "  <tbody>\n",
       "    <tr>\n",
       "      <th>281</th>\n",
       "      <td>Agassi A.</td>\n",
       "      <td>Grand Slam</td>\n",
       "      <td>Australian Open</td>\n",
       "      <td>2000</td>\n",
       "      <td>1</td>\n",
       "      <td>Hard</td>\n",
       "      <td>0</td>\n",
       "      <td>Australian Open_2000</td>\n",
       "    </tr>\n",
       "    <tr>\n",
       "      <th>1415</th>\n",
       "      <td>Kuerten G.</td>\n",
       "      <td>Grand Slam</td>\n",
       "      <td>French Open</td>\n",
       "      <td>2000</td>\n",
       "      <td>5</td>\n",
       "      <td>Clay</td>\n",
       "      <td>0</td>\n",
       "      <td>French Open_2000</td>\n",
       "    </tr>\n",
       "    <tr>\n",
       "      <th>1690</th>\n",
       "      <td>Sampras P.</td>\n",
       "      <td>Grand Slam</td>\n",
       "      <td>Wimbledon</td>\n",
       "      <td>2000</td>\n",
       "      <td>3</td>\n",
       "      <td>Grass</td>\n",
       "      <td>0</td>\n",
       "      <td>Wimbledon_2000</td>\n",
       "    </tr>\n",
       "    <tr>\n",
       "      <th>2395</th>\n",
       "      <td>Safin M.</td>\n",
       "      <td>Grand Slam</td>\n",
       "      <td>US Open</td>\n",
       "      <td>2000</td>\n",
       "      <td>7</td>\n",
       "      <td>Hard</td>\n",
       "      <td>0</td>\n",
       "      <td>US Open_2000</td>\n",
       "    </tr>\n",
       "    <tr>\n",
       "      <th>3244</th>\n",
       "      <td>Agassi A.</td>\n",
       "      <td>Grand Slam</td>\n",
       "      <td>Australian Open</td>\n",
       "      <td>2001</td>\n",
       "      <td>6</td>\n",
       "      <td>Hard</td>\n",
       "      <td>0</td>\n",
       "      <td>Australian Open_2001</td>\n",
       "    </tr>\n",
       "  </tbody>\n",
       "</table>\n",
       "</div>"
      ],
      "text/plain": [
       "       Finalista      Series       Tournament  Year  WRank Surface  LRank  \\\n",
       "281    Agassi A.  Grand Slam  Australian Open  2000      1    Hard      0   \n",
       "1415  Kuerten G.  Grand Slam      French Open  2000      5    Clay      0   \n",
       "1690  Sampras P.  Grand Slam        Wimbledon  2000      3   Grass      0   \n",
       "2395    Safin M.  Grand Slam          US Open  2000      7    Hard      0   \n",
       "3244   Agassi A.  Grand Slam  Australian Open  2001      6    Hard      0   \n",
       "\n",
       "           Tournament_Year  \n",
       "281   Australian Open_2000  \n",
       "1415      French Open_2000  \n",
       "1690        Wimbledon_2000  \n",
       "2395          US Open_2000  \n",
       "3244  Australian Open_2001  "
      ]
     },
     "execution_count": 179,
     "metadata": {},
     "output_type": "execute_result"
    }
   ],
   "source": [
    "#Crearemos un nuevo dataset de solo los finalistas a partir del dataset original\n",
    "df_finals = df_filtered3[df_filtered3['Round'] == 'The Final']\n",
    "\n",
    "winners = df_finals[['Winner', 'Series','Tournament', 'Year', 'WRank', 'Surface']].rename(columns={'Winner': 'Finalista'})\n",
    "losers = df_finals[['Loser', 'Series','Tournament', 'Year', 'LRank', 'Surface']].rename(columns={'Loser': 'Finalista'})\n",
    "\n",
    "finalists = pd.concat([winners, losers])\n",
    "\n",
    "finalists = finalists.fillna(0)\n",
    "\n",
    "finalists['WRank'] = finalists['WRank'].astype(int)\n",
    "\n",
    "finalists['LRank'] = finalists['LRank'].astype(int)\n",
    "\n",
    "finalists['Tournament_Year'] = finalists['Tournament'] + '_' + finalists['Year'].astype(str)\n",
    "\n",
    "finalists.head()\n"
   ]
  },
  {
   "cell_type": "code",
   "execution_count": 180,
   "metadata": {},
   "outputs": [],
   "source": [
    "#guardamos el dataset\n",
    "\n",
    "finalists.to_csv('finalistas.csv', index=False)"
   ]
  }
 ],
 "metadata": {
  "kernelspec": {
   "display_name": "proyecto_tenis",
   "language": "python",
   "name": "python3"
  },
  "language_info": {
   "codemirror_mode": {
    "name": "ipython",
    "version": 3
   },
   "file_extension": ".py",
   "mimetype": "text/x-python",
   "name": "python",
   "nbconvert_exporter": "python",
   "pygments_lexer": "ipython3",
   "version": "3.12.9"
  },
  "orig_nbformat": 4
 },
 "nbformat": 4,
 "nbformat_minor": 2
}
